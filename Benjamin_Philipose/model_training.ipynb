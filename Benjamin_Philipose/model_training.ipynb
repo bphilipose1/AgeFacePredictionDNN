{
 "cells": [
  {
   "cell_type": "code",
   "execution_count": 8,
   "metadata": {},
   "outputs": [],
   "source": [
    "import numpy as np\n",
    "import pandas as pd\n",
    "import torch\n",
    "import torch.nn as nn\n",
    "from utils import calculate_gradient_and_update, cnn_train_step, cnn_val_step, save_checkpoint, mmn_train_step, mmn_val_step\n",
    "from dataloader import CustomDataloader\n",
    "from networks import CNNRegression, MultiModalNetwork\n",
    "import tqdm"
   ]
  },
  {
   "cell_type": "markdown",
   "metadata": {},
   "source": [
    "#### Automatic GPU optimization, if available"
   ]
  },
  {
   "cell_type": "code",
   "execution_count": 9,
   "metadata": {},
   "outputs": [
    {
     "name": "stdout",
     "output_type": "stream",
     "text": [
      "Is CUDA available?  True\n"
     ]
    }
   ],
   "source": [
    "cuda_available = torch.cuda.is_available()\n",
    "print(\"Is CUDA available? \", cuda_available)"
   ]
  },
  {
   "cell_type": "code",
   "execution_count": 10,
   "metadata": {},
   "outputs": [
    {
     "name": "stdout",
     "output_type": "stream",
     "text": [
      "Using GPU: NVIDIA GeForce GTX 1660 Ti\n"
     ]
    }
   ],
   "source": [
    "if (torch.cuda.is_available()):\n",
    "    device = torch.device(\"cuda\")\n",
    "    print('Using GPU:', torch.cuda.get_device_name(0))\n",
    "else:\n",
    "    device = torch.device(\"cpu\")\n",
    "    print('GPU not available, using CPU')\n",
    "    "
   ]
  },
  {
   "cell_type": "markdown",
   "metadata": {},
   "source": [
    "### Model 1 - Linear Regression ###"
   ]
  },
  {
   "cell_type": "code",
   "execution_count": 11,
   "metadata": {},
   "outputs": [],
   "source": [
    "#load train test and validation data from tensor_collection\n",
    "cm_x_train = torch.load('tensor_collection\\\\cm_x_train.pt')\n",
    "cm_y_train = torch.load('tensor_collection\\\\cm_y_train.pt')\n",
    "cm_x_test = torch.load('tensor_collection\\\\cm_x_test.pt')\n",
    "cm_y_test = torch.load('tensor_collection\\\\cm_y_test.pt')\n",
    "cm_x_val = torch.load('tensor_collection\\\\cm_x_val.pt')\n",
    "cm_y_val = torch.load('tensor_collection\\\\cm_y_val.pt')\n",
    "\n"
   ]
  },
  {
   "cell_type": "markdown",
   "metadata": {},
   "source": [
    "#### Hyperparameters setup"
   ]
  },
  {
   "cell_type": "code",
   "execution_count": 12,
   "metadata": {},
   "outputs": [],
   "source": [
    "num_features = cm_x_train.shape[1]\n",
    "\n",
    "train_loss_history = []\n",
    "val_loss_history = []\n",
    "num_epochs = 100\n",
    "alpha = 0.1\n",
    "\n",
    "# Initialize theta to random values between -2 and 2\n",
    "theta = np.random.uniform(-2, 2, (num_features))\n"
   ]
  },
  {
   "cell_type": "markdown",
   "metadata": {},
   "source": [
    "#### Model 1 - Training Loop "
   ]
  },
  {
   "cell_type": "code",
   "execution_count": 13,
   "metadata": {},
   "outputs": [],
   "source": [
    "\n",
    "# Training Loop\n",
    "for t in range(num_epochs):\n",
    "    # Training step\n",
    "    train_loss, theta = calculate_gradient_and_update(cm_x_train, cm_y_train, theta, alpha)\n",
    "    train_loss_history.append(train_loss)\n",
    "\n",
    "    # Validation step\n",
    "    val_loss, _ = calculate_gradient_and_update(cm_x_val, cm_y_val, theta, 0)  # alpha=0 to prevent updates\n",
    "    val_loss_history.append(val_loss)\n"
   ]
  },
  {
   "cell_type": "code",
   "execution_count": 14,
   "metadata": {},
   "outputs": [],
   "source": [
    "#save theta and loss history for analysis notebook\n",
    "theta_torch = torch.tensor(theta, dtype=torch.float32)\n",
    "train_loss_history_torch = torch.tensor(train_loss_history, dtype=torch.float32)\n",
    "val_loss_history_torch = torch.tensor(val_loss_history, dtype=torch.float32)\n",
    "\n",
    "torch.save(theta_torch, 'tensor_collection\\\\lr_theta.pt')\n",
    "torch.save(train_loss_history_torch, 'tensor_collection\\\\lr_train_loss.pt')\n",
    "torch.save(val_loss_history_torch, 'tensor_collection\\\\lr_val_loss.pt')\n"
   ]
  },
  {
   "cell_type": "markdown",
   "metadata": {},
   "source": [
    "### Model 2 - Training CNN ###"
   ]
  },
  {
   "cell_type": "markdown",
   "metadata": {},
   "source": [
    "#### Load in Train, Val, and Test sets for Model 2"
   ]
  },
  {
   "cell_type": "code",
   "execution_count": 16,
   "metadata": {},
   "outputs": [
    {
     "name": "stdout",
     "output_type": "stream",
     "text": [
      "<class 'pandas.core.frame.DataFrame'>\n",
      "<class 'numpy.ndarray'>\n"
     ]
    }
   ],
   "source": [
    "directory = 'tensor_collection\\\\'\n",
    "\n",
    "#load train and val csv files\n",
    "cnn_x_train = pd.read_csv(directory + 'cnn_x_train.csv')\n",
    "cnn_x_val = pd.read_csv(directory + 'cnn_x_val.csv')\n",
    "cnn_y_train_tensor = torch.load(directory + 'cnn_y_train.pt')\n",
    "cnn_y_val_tensor = torch.load(directory + 'cnn_y_val.pt')\n",
    "\n",
    "print(type(cnn_x_train))\n",
    "print(type(cnn_y_train_tensor))\n"
   ]
  },
  {
   "cell_type": "markdown",
   "metadata": {},
   "source": [
    "#### Instantiating Train and Val Dataloaders"
   ]
  },
  {
   "cell_type": "code",
   "execution_count": 44,
   "metadata": {},
   "outputs": [],
   "source": [
    "train_dataloader = CustomDataloader(dataframe=cnn_x_train, age=cnn_y_train_tensor, batch_size=50, randomize=True)\n",
    "val_dataloader = CustomDataloader(dataframe=cnn_x_val, age=cnn_y_val_tensor, batch_size=50, randomize=False)"
   ]
  },
  {
   "cell_type": "markdown",
   "metadata": {},
   "source": [
    "#### Model 2 - Hyperparameters"
   ]
  },
  {
   "cell_type": "code",
   "execution_count": 45,
   "metadata": {},
   "outputs": [],
   "source": [
    "model = CNNRegression().to(device)\n",
    "optimizer = torch.optim.Adam(model.parameters(), lr=1e-4)\n",
    "epochs = 50\n",
    "loss_fn = nn.MSELoss()"
   ]
  },
  {
   "cell_type": "markdown",
   "metadata": {},
   "source": [
    "#### Model 2 - Training Loop"
   ]
  },
  {
   "cell_type": "code",
   "execution_count": 46,
   "metadata": {},
   "outputs": [
    {
     "name": "stderr",
     "output_type": "stream",
     "text": [
      "100%|██████████| 50/50 [08:23<00:00, 10.07s/it]\n"
     ]
    }
   ],
   "source": [
    "train_losses = []\n",
    "val_losses = []\n",
    "for epoch in tqdm.tqdm(range(epochs)):\n",
    "    # Training step\n",
    "    train_loss = cnn_train_step(model, train_dataloader, loss_fn, optimizer, device)\n",
    "    train_losses.append(train_loss)\n",
    "    \n",
    "    # Validation step\n",
    "    val_loss = cnn_val_step(model, val_dataloader, loss_fn, device)\n",
    "    val_losses.append(val_loss)\n",
    "\n",
    "    save_checkpoint(model, optimizer, epoch, f'model_checkpoints/cnn_checkpoint_epoch_{epoch}.pth')"
   ]
  },
  {
   "cell_type": "code",
   "execution_count": 6,
   "metadata": {},
   "outputs": [
    {
     "ename": "NameError",
     "evalue": "name 'train_losses' is not defined",
     "output_type": "error",
     "traceback": [
      "\u001b[1;31m---------------------------------------------------------------------------\u001b[0m",
      "\u001b[1;31mNameError\u001b[0m                                 Traceback (most recent call last)",
      "\u001b[1;32mc:\\Users\\phili\\Documents\\MLFinal\\MLFinal\\Benjamin_Philipose\\model_training.ipynb Cell 20\u001b[0m line \u001b[0;36m2\n\u001b[0;32m      <a href='vscode-notebook-cell:/c%3A/Users/phili/Documents/MLFinal/MLFinal/Benjamin_Philipose/model_training.ipynb#X15sZmlsZQ%3D%3D?line=0'>1</a>\u001b[0m \u001b[39m#store train and validation losses\u001b[39;00m\n\u001b[1;32m----> <a href='vscode-notebook-cell:/c%3A/Users/phili/Documents/MLFinal/MLFinal/Benjamin_Philipose/model_training.ipynb#X15sZmlsZQ%3D%3D?line=1'>2</a>\u001b[0m torch\u001b[39m.\u001b[39msave(train_losses, \u001b[39m'\u001b[39m\u001b[39mtensor_collection\u001b[39m\u001b[39m\\\\\u001b[39;00m\u001b[39mcnn_train_losses.pt\u001b[39m\u001b[39m'\u001b[39m)\n\u001b[0;32m      <a href='vscode-notebook-cell:/c%3A/Users/phili/Documents/MLFinal/MLFinal/Benjamin_Philipose/model_training.ipynb#X15sZmlsZQ%3D%3D?line=2'>3</a>\u001b[0m torch\u001b[39m.\u001b[39msave(val_losses, \u001b[39m'\u001b[39m\u001b[39mtensor_collection\u001b[39m\u001b[39m\\\\\u001b[39;00m\u001b[39mcnn_val_losses.pt\u001b[39m\u001b[39m'\u001b[39m)\n",
      "\u001b[1;31mNameError\u001b[0m: name 'train_losses' is not defined"
     ]
    }
   ],
   "source": [
    "#store train and validation losses\n",
    "torch.save(train_losses, 'tensor_collection\\\\cnn_train_losses.pt')\n",
    "torch.save(val_losses, 'tensor_collection\\\\cnn_val_losses.pt')\n",
    "\n",
    "\n"
   ]
  },
  {
   "cell_type": "markdown",
   "metadata": {},
   "source": [
    "### Model 3 - Training Multi-Modal Network ###"
   ]
  },
  {
   "cell_type": "markdown",
   "metadata": {},
   "source": [
    "#### Instantiating Train and Val Data loaders"
   ]
  },
  {
   "cell_type": "code",
   "execution_count": 17,
   "metadata": {},
   "outputs": [],
   "source": [
    "train_dataloader = CustomDataloader(dataframe=cnn_x_train, age=cnn_y_train_tensor, batch_size=50, randomize=True)\n",
    "val_dataloader = CustomDataloader(dataframe=cnn_x_val, age=cnn_y_val_tensor, batch_size=50, randomize=False)\n"
   ]
  },
  {
   "cell_type": "markdown",
   "metadata": {},
   "source": [
    "#### Model 3 - Hyperparameters"
   ]
  },
  {
   "cell_type": "code",
   "execution_count": 18,
   "metadata": {},
   "outputs": [],
   "source": [
    "num_numerical_features = cnn_x_train.shape[1] - 1 # -1 because we don't count the filename column\n",
    "\n",
    "model = MultiModalNetwork(num_numerical_features).to(device)  # Adjust for the number of numerical features\n",
    "optimizer = torch.optim.Adam(model.parameters(), lr=1e-4)\n",
    "epochs = 10 #after 10 epochs the model train and validation loss began to spike\n",
    "loss_fn = torch.nn.MSELoss()\n"
   ]
  },
  {
   "cell_type": "markdown",
   "metadata": {},
   "source": [
    "#### Model 3 - Training Loop"
   ]
  },
  {
   "cell_type": "code",
   "execution_count": 19,
   "metadata": {},
   "outputs": [
    {
     "name": "stderr",
     "output_type": "stream",
     "text": [
      " 10%|█         | 1/10 [00:17<02:37, 17.50s/it]\n"
     ]
    },
    {
     "ename": "KeyboardInterrupt",
     "evalue": "",
     "output_type": "error",
     "traceback": [
      "\u001b[1;31m---------------------------------------------------------------------------\u001b[0m",
      "\u001b[1;31mKeyboardInterrupt\u001b[0m                         Traceback (most recent call last)",
      "\u001b[1;32mc:\\Users\\phili\\Documents\\MLFinal\\MLFinal\\Benjamin_Philipose\\model_training.ipynb Cell 27\u001b[0m line \u001b[0;36m2\n\u001b[0;32m      <a href='vscode-notebook-cell:/c%3A/Users/phili/Documents/MLFinal/MLFinal/Benjamin_Philipose/model_training.ipynb#X16sZmlsZQ%3D%3D?line=0'>1</a>\u001b[0m \u001b[39mfor\u001b[39;00m epoch \u001b[39min\u001b[39;00m tqdm\u001b[39m.\u001b[39mtqdm(\u001b[39mrange\u001b[39m(epochs)):\n\u001b[1;32m----> <a href='vscode-notebook-cell:/c%3A/Users/phili/Documents/MLFinal/MLFinal/Benjamin_Philipose/model_training.ipynb#X16sZmlsZQ%3D%3D?line=1'>2</a>\u001b[0m     train_loss \u001b[39m=\u001b[39m mmn_train_step(model, train_dataloader, loss_fn, optimizer, device)\n\u001b[0;32m      <a href='vscode-notebook-cell:/c%3A/Users/phili/Documents/MLFinal/MLFinal/Benjamin_Philipose/model_training.ipynb#X16sZmlsZQ%3D%3D?line=2'>3</a>\u001b[0m     train_losses\u001b[39m.\u001b[39mappend(train_loss)\n\u001b[0;32m      <a href='vscode-notebook-cell:/c%3A/Users/phili/Documents/MLFinal/MLFinal/Benjamin_Philipose/model_training.ipynb#X16sZmlsZQ%3D%3D?line=4'>5</a>\u001b[0m     val_loss \u001b[39m=\u001b[39m mmn_val_step(model, val_dataloader, loss_fn, device)\n",
      "File \u001b[1;32mc:\\Users\\phili\\Documents\\MLFinal\\MLFinal\\Benjamin_Philipose\\utils.py:76\u001b[0m, in \u001b[0;36mmmn_train_step\u001b[1;34m(model, dataloader, loss_fn, optimizer, device)\u001b[0m\n\u001b[0;32m     74\u001b[0m     loss\u001b[39m.\u001b[39mbackward()\n\u001b[0;32m     75\u001b[0m     optimizer\u001b[39m.\u001b[39mstep()\n\u001b[1;32m---> 76\u001b[0m     losses\u001b[39m.\u001b[39mappend(loss\u001b[39m.\u001b[39;49mitem())\n\u001b[0;32m     77\u001b[0m \u001b[39mreturn\u001b[39;00m np\u001b[39m.\u001b[39mmean(losses)\n",
      "\u001b[1;31mKeyboardInterrupt\u001b[0m: "
     ]
    }
   ],
   "source": [
    "train_losses = []\n",
    "val_losses = []\n",
    "for epoch in tqdm.tqdm(range(epochs)):\n",
    "    \n",
    "    train_loss = mmn_train_step(model, train_dataloader, loss_fn, optimizer, device)\n",
    "    train_losses.append(train_loss)\n",
    "\n",
    "    val_loss = mmn_val_step(model, val_dataloader, loss_fn, device)\n",
    "    val_losses.append(val_loss)\n",
    "\n",
    "    checkpoint_filename = f'model_checkpoints/mmn_checkpoint_epoch_{epoch}.pth'\n",
    "    save_checkpoint(model, optimizer, epoch, checkpoint_filename)"
   ]
  },
  {
   "cell_type": "code",
   "execution_count": null,
   "metadata": {},
   "outputs": [],
   "source": [
    "#store train and validation losses\n",
    "torch.save(train_losses, 'tensor_collection\\\\mmn_train_losses.pt')\n",
    "torch.save(val_losses, 'tensor_collection\\\\mmn_val_losses.pt')\n",
    "#store epochs for plotting\n",
    "torch.save(epochs, 'tensor_collection\\\\mmn_epochs.pt')\n",
    "\n"
   ]
  }
 ],
 "metadata": {
  "kernelspec": {
   "display_name": "venv",
   "language": "python",
   "name": "python3"
  },
  "language_info": {
   "codemirror_mode": {
    "name": "ipython",
    "version": 3
   },
   "file_extension": ".py",
   "mimetype": "text/x-python",
   "name": "python",
   "nbconvert_exporter": "python",
   "pygments_lexer": "ipython3",
   "version": "3.11.5"
  }
 },
 "nbformat": 4,
 "nbformat_minor": 2
}
