{
 "cells": [
  {
   "cell_type": "code",
   "execution_count": 104,
   "metadata": {},
   "outputs": [],
   "source": [
    "import numpy as np\n",
    "import pickle\n",
    "\n",
    "import numpy as np\n",
    "import torch\n",
    "import torch.nn as nn"
   ]
  },
  {
   "cell_type": "markdown",
   "metadata": {},
   "source": [
    "### Model 1 - Linear Regression ###"
   ]
  },
  {
   "cell_type": "code",
   "execution_count": 105,
   "metadata": {},
   "outputs": [],
   "source": [
    "#load train test and validation data from tensor_collection\n",
    "cm_x_train = torch.load('tensor_collection\\\\cm_x_train.pt')\n",
    "cm_y_train = torch.load('tensor_collection\\\\cm_y_train.pt')\n",
    "cm_x_test = torch.load('tensor_collection\\\\cm_x_test.pt')\n",
    "cm_y_test = torch.load('tensor_collection\\\\cm_y_test.pt')\n",
    "cm_x_val = torch.load('tensor_collection\\\\cm_x_val.pt')\n",
    "cm_y_val = torch.load('tensor_collection\\\\cm_y_val.pt')\n",
    "\n"
   ]
  },
  {
   "cell_type": "code",
   "execution_count": 106,
   "metadata": {},
   "outputs": [],
   "source": [
    "#Loss function\n",
    "def mean_squared_error(x : np.ndarray, y : np.ndarray, theta : np.ndarray) -> np.ndarray:\n",
    "    yhat = x @ theta \n",
    "    error = yhat - y \n",
    "    loss = (1 / len(y)) * np.sum(error ** 2) \n",
    "    return loss\n",
    "\n",
    "#Gradient descent\n",
    "def calculate_gradient_and_update(x: np.ndarray, y: np.ndarray, theta: np.ndarray, alpha: float) -> tuple([float, np.ndarray]):\n",
    "    gradient = (1 / len(y)) * x.T @ ((x @ theta) - y) \n",
    "    theta_new = theta - (alpha * gradient) \n",
    "    loss = mean_squared_error(x, y, theta_new)\n",
    "    return loss, theta_new\n"
   ]
  },
  {
   "cell_type": "code",
   "execution_count": 107,
   "metadata": {},
   "outputs": [
    {
     "name": "stdout",
     "output_type": "stream",
     "text": [
      "Final training loss: 66.8928832558388\n",
      "Final validation loss: 63.11712690253442\n"
     ]
    }
   ],
   "source": [
    "num_features = cm_x_train.shape[1]\n",
    "\n",
    "train_loss_history = []\n",
    "val_loss_history = []\n",
    "num_epochs = 10000\n",
    "alpha = 0.1\n",
    "\n",
    "# Initialize theta to random values between -2 and 2\n",
    "theta = np.random.uniform(-2, 2, (num_features))\n",
    "\n",
    "# Training Loop\n",
    "for t in range(num_epochs):\n",
    "    train_loss, theta = calculate_gradient_and_update(cm_x_train, cm_y_train, theta, alpha)\n",
    "    train_loss_history.append(train_loss)\n",
    "\n",
    "    # Validation step\n",
    "    val_loss, _ = calculate_gradient_and_update(cm_x_val, cm_y_val, theta, 0)  # alpha=0 to prevent updates\n",
    "    val_loss_history.append(val_loss)\n",
    "\n",
    "\n",
    "# Plot loss history\n",
    "print('Final training loss:', train_loss)\n",
    "print('Final validation loss:', val_loss)\n"
   ]
  },
  {
   "cell_type": "code",
   "execution_count": 108,
   "metadata": {},
   "outputs": [],
   "source": [
    "#save theta and loss history for analysis notebook\n",
    "pickle.dump(theta, open('tensor_collection\\\\regression_theta.pkl', 'wb'))\n",
    "pickle.dump(train_loss, open('tensor_collection\\\\regression_train_loss.pkl', 'wb'))\n",
    "pickle.dump(val_loss, open('tensor_collection\\\\regression_val_loss.pkl', 'wb'))"
   ]
  },
  {
   "cell_type": "code",
   "execution_count": 109,
   "metadata": {},
   "outputs": [
    {
     "name": "stdout",
     "output_type": "stream",
     "text": [
      "Is CUDA available?  True\n"
     ]
    }
   ],
   "source": [
    "cuda_available = torch.cuda.is_available()\n",
    "print(\"Is CUDA available? \", cuda_available)"
   ]
  },
  {
   "cell_type": "code",
   "execution_count": 110,
   "metadata": {},
   "outputs": [],
   "source": [
    "#load torch tensors\n",
    "cnn_x_train_tensor = torch.load('tensor_collection\\\\cnn_x_train.pt')\n",
    "cnn_x_val_tensor = torch.load('tensor_collection\\\\cnn_x_val.pt')\n",
    "cnn_y_train_tensor = torch.load('tensor_collection\\\\cnn_y_train.pt')\n",
    "cnn_y_val_tensor = torch.load('tensor_collection\\\\cnn_y_val.pt')"
   ]
  },
  {
   "cell_type": "code",
   "execution_count": 111,
   "metadata": {},
   "outputs": [
    {
     "name": "stdout",
     "output_type": "stream",
     "text": [
      "Using GPU: NVIDIA GeForce GTX 1660 Ti\n"
     ]
    }
   ],
   "source": [
    "if (torch.cuda.is_available()):\n",
    "    device = torch.device(\"cuda:0\")\n",
    "    print('Using GPU:', torch.cuda.get_device_name(0))\n",
    "else:\n",
    "    device = torch.device(\"cpu\")\n",
    "    print('GPU not available, using CPU')\n",
    "    "
   ]
  },
  {
   "cell_type": "code",
   "execution_count": 129,
   "metadata": {},
   "outputs": [
    {
     "name": "stdout",
     "output_type": "stream",
     "text": [
      "Initial image tensor shape: torch.Size([18966, 1, 64, 64])\n"
     ]
    },
    {
     "name": "stderr",
     "output_type": "stream",
     "text": [
      "100%|██████████| 200/200 [04:23<00:00,  1.32s/it]\n"
     ]
    }
   ],
   "source": [
    "from dataloader import CustomDataloader\n",
    "from networks import CNNRegression\n",
    "import tqdm\n",
    "\n",
    "print(\"Initial image tensor shape:\", cnn_x_train_tensor.shape)\n",
    "#cm_x_train, cm_x_val\n",
    "train_dataloader = CustomDataloader(cnn_x_train_tensor, cnn_y_train_tensor.unsqueeze(1), batch_size=50, randomize=True)\n",
    "val_dataloader = CustomDataloader(cnn_x_val_tensor, cnn_y_val_tensor.unsqueeze(1), batch_size=50, randomize=False)\n",
    "\n",
    "model = CNNRegression().to(device)\n",
    "\n",
    "# instantiate your optimizer\n",
    "optimizer = torch.optim.Adam(model.parameters(), lr=1e-4)\n",
    "\n",
    "# log your losses\n",
    "train_losses = []\n",
    "val_losses = []\n",
    "\n",
    "# define how many epochs to train on\n",
    "epochs = 200\n",
    "\n",
    "\n",
    "#print contents of batch\n",
    "\n",
    "\n",
    "# define your loss function for multiclass classification task\n",
    "# BCE does binary cross entropy automatically for each class\n",
    "loss_fn = torch.nn.MSELoss()\n",
    "for _ in tqdm.tqdm(range(epochs)):\n",
    "    losses = []\n",
    "    for _ in range(train_dataloader.num_batches_per_epoch):\n",
    "        train_batch = train_dataloader.fetch_batch()\n",
    "        x_batch = train_batch['x_batch'].to(device)\n",
    "        y_batch = train_batch['y_batch'].to(device)\n",
    "        yhat = model(x_batch)  # Use only image batch\n",
    "        train_loss = torch.mean(loss_fn(yhat, y_batch))  # Adjusted to label_batch\n",
    "\n",
    "        # Training data backward pass\n",
    "        train_loss.backward()\n",
    "        optimizer.step()\n",
    "        losses.append(train_loss.detach().cpu().numpy())\n",
    "\n",
    "    train_losses.extend(losses)\n",
    "    \n",
    "    losses = []\n",
    "    for _ in range(val_dataloader.num_batches_per_epoch):\n",
    "        # Validation data forward pass only\n",
    "        val_batch = val_dataloader.fetch_batch()\n",
    "        x_batch = val_batch['x_batch'].to(device)\n",
    "        y_batch = val_batch['y_batch'].to(device)\n",
    "        yhat = model(x_batch)  # Use only image batch\n",
    "        val_loss = torch.mean(loss_fn(yhat, y_batch), axis=0)  # Adjusted to label_batch\n",
    "        losses.append(val_loss.detach().cpu().numpy())\n",
    "\n",
    "    val_losses.append(np.mean(losses))\n"
   ]
  },
  {
   "cell_type": "code",
   "execution_count": 131,
   "metadata": {},
   "outputs": [],
   "source": [
    "#store train and validation losses\n",
    "torch.save(train_losses, 'tensor_collection\\\\cnn_train_losses.pt')\n",
    "torch.save(val_losses, 'tensor_collection\\\\cnn_val_losses.pt')\n",
    "#store epochs for plotting\n",
    "torch.save(epochs, 'tensor_collection\\\\cnn_epochs.pt')\n",
    "\n"
   ]
  }
 ],
 "metadata": {
  "kernelspec": {
   "display_name": "venv",
   "language": "python",
   "name": "python3"
  },
  "language_info": {
   "codemirror_mode": {
    "name": "ipython",
    "version": 3
   },
   "file_extension": ".py",
   "mimetype": "text/x-python",
   "name": "python",
   "nbconvert_exporter": "python",
   "pygments_lexer": "ipython3",
   "version": "3.11.5"
  }
 },
 "nbformat": 4,
 "nbformat_minor": 2
}
