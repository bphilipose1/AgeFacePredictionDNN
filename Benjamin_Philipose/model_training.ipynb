{
 "cells": [
  {
   "cell_type": "code",
   "execution_count": 1,
   "metadata": {},
   "outputs": [],
   "source": [
    "import numpy as np\n",
    "import pickle\n",
    "import pandas as pd\n",
    "import numpy as np\n",
    "import torch\n",
    "import torch.nn as nn"
   ]
  },
  {
   "cell_type": "markdown",
   "metadata": {},
   "source": [
    "### Model 1 - Linear Regression ###"
   ]
  },
  {
   "cell_type": "code",
   "execution_count": 2,
   "metadata": {},
   "outputs": [],
   "source": [
    "#load train test and validation data from tensor_collection\n",
    "cm_x_train = torch.load('tensor_collection\\\\cm_x_train.pt')\n",
    "cm_y_train = torch.load('tensor_collection\\\\cm_y_train.pt')\n",
    "cm_x_test = torch.load('tensor_collection\\\\cm_x_test.pt')\n",
    "cm_y_test = torch.load('tensor_collection\\\\cm_y_test.pt')\n",
    "cm_x_val = torch.load('tensor_collection\\\\cm_x_val.pt')\n",
    "cm_y_val = torch.load('tensor_collection\\\\cm_y_val.pt')\n",
    "\n"
   ]
  },
  {
   "cell_type": "code",
   "execution_count": 3,
   "metadata": {},
   "outputs": [],
   "source": [
    "#Loss function\n",
    "def mean_squared_error(x : np.ndarray, y : np.ndarray, theta : np.ndarray) -> np.ndarray:\n",
    "    yhat = x @ theta \n",
    "    error = yhat - y \n",
    "    loss = (1 / len(y)) * np.sum(error ** 2) \n",
    "    return loss\n",
    "\n",
    "#Gradient descent\n",
    "def calculate_gradient_and_update(x: np.ndarray, y: np.ndarray, theta: np.ndarray, alpha: float) -> tuple([float, np.ndarray]):\n",
    "    gradient = (1 / len(y)) * x.T @ ((x @ theta) - y) \n",
    "    theta_new = theta - (alpha * gradient) \n",
    "    loss = mean_squared_error(x, y, theta_new)\n",
    "    return loss, theta_new\n"
   ]
  },
  {
   "cell_type": "code",
   "execution_count": 4,
   "metadata": {},
   "outputs": [
    {
     "name": "stdout",
     "output_type": "stream",
     "text": [
      "Final training loss: 66.8928832558388\n",
      "Final validation loss: 63.11712690253444\n"
     ]
    }
   ],
   "source": [
    "num_features = cm_x_train.shape[1]\n",
    "\n",
    "train_loss_history = []\n",
    "val_loss_history = []\n",
    "num_epochs = 10000\n",
    "alpha = 0.1\n",
    "\n",
    "# Initialize theta to random values between -2 and 2\n",
    "theta = np.random.uniform(-2, 2, (num_features))\n",
    "\n",
    "# Training Loop\n",
    "for t in range(num_epochs):\n",
    "    train_loss, theta = calculate_gradient_and_update(cm_x_train, cm_y_train, theta, alpha)\n",
    "    train_loss_history.append(train_loss)\n",
    "\n",
    "    # Validation step\n",
    "    val_loss, _ = calculate_gradient_and_update(cm_x_val, cm_y_val, theta, 0)  # alpha=0 to prevent updates\n",
    "    val_loss_history.append(val_loss)\n",
    "\n",
    "\n",
    "# Plot loss history\n",
    "print('Final training loss:', train_loss)\n",
    "print('Final validation loss:', val_loss)\n"
   ]
  },
  {
   "cell_type": "code",
   "execution_count": 5,
   "metadata": {},
   "outputs": [],
   "source": [
    "#save theta and loss history for analysis notebook\n",
    "pickle.dump(theta, open('tensor_collection\\\\regression_theta.pkl', 'wb'))\n",
    "pickle.dump(train_loss, open('tensor_collection\\\\regression_train_loss.pkl', 'wb'))\n",
    "pickle.dump(val_loss, open('tensor_collection\\\\regression_val_loss.pkl', 'wb'))"
   ]
  },
  {
   "cell_type": "markdown",
   "metadata": {},
   "source": [
    "### Model 2 - Training CNN ###"
   ]
  },
  {
   "cell_type": "code",
   "execution_count": 6,
   "metadata": {},
   "outputs": [
    {
     "name": "stdout",
     "output_type": "stream",
     "text": [
      "Is CUDA available?  True\n"
     ]
    }
   ],
   "source": [
    "cuda_available = torch.cuda.is_available()\n",
    "print(\"Is CUDA available? \", cuda_available)"
   ]
  },
  {
   "cell_type": "code",
   "execution_count": 7,
   "metadata": {},
   "outputs": [
    {
     "name": "stdout",
     "output_type": "stream",
     "text": [
      "<class 'pandas.core.frame.DataFrame'>\n",
      "<class 'numpy.ndarray'>\n"
     ]
    }
   ],
   "source": [
    "#load torch tensors\n",
    "#load from csv\n",
    "directory = 'tensor_collection\\\\'\n",
    "\n",
    "#load train and val csv files\n",
    "cnn_x_train = pd.read_csv(directory + 'cnn_x_train.csv')\n",
    "cnn_x_val = pd.read_csv(directory + 'cnn_x_val.csv')\n",
    "\n",
    "\n",
    "cnn_y_train_tensor = torch.load(directory + 'cnn_y_train.pt')\n",
    "cnn_y_val_tensor = torch.load(directory + 'cnn_y_val.pt')\n",
    "\n",
    "#print types\n",
    "print(type(cnn_x_train))\n",
    "print(type(cnn_y_train_tensor))\n",
    "\n"
   ]
  },
  {
   "cell_type": "code",
   "execution_count": 8,
   "metadata": {},
   "outputs": [
    {
     "name": "stdout",
     "output_type": "stream",
     "text": [
      "Using GPU: NVIDIA GeForce GTX 1660 Ti\n"
     ]
    }
   ],
   "source": [
    "if (torch.cuda.is_available()):\n",
    "    device = torch.device(\"cuda:0\")\n",
    "    print('Using GPU:', torch.cuda.get_device_name(0))\n",
    "else:\n",
    "    device = torch.device(\"cpu\")\n",
    "    print('GPU not available, using CPU')\n",
    "    "
   ]
  },
  {
   "cell_type": "code",
   "execution_count": 9,
   "metadata": {},
   "outputs": [],
   "source": [
    "from dataloader import CustomDataloader\n",
    "from networks import CNNRegression\n",
    "import tqdm"
   ]
  },
  {
   "cell_type": "code",
   "execution_count": 10,
   "metadata": {},
   "outputs": [
    {
     "name": "stderr",
     "output_type": "stream",
     "text": [
      "100%|██████████| 50/50 [08:22<00:00, 10.05s/it]\n"
     ]
    }
   ],
   "source": [
    "\n",
    "\n",
    "train_dataloader = CustomDataloader(dataframe=cnn_x_train, age=cnn_y_train_tensor, batch_size=50, randomize=True)\n",
    "val_dataloader = CustomDataloader(dataframe=cnn_x_val, age=cnn_y_val_tensor, batch_size=50, randomize=False)\n",
    "\n",
    "model = CNNRegression().to(device)\n",
    "\n",
    "# instantiate your optimizer\n",
    "optimizer = torch.optim.Adam(model.parameters(), lr=1e-4)\n",
    "\n",
    "# log your losses\n",
    "train_losses = []\n",
    "val_losses = []\n",
    "\n",
    "# define how many epochs to train on\n",
    "epochs = 50\n",
    "\n",
    "def save_checkpoint(model, optimizer, epoch, filename):\n",
    "    checkpoint = {\n",
    "        'epoch': epoch,\n",
    "        'model_state_dict': model.state_dict(),\n",
    "        'optimizer_state_dict': optimizer.state_dict()\n",
    "    }\n",
    "    torch.save(checkpoint, filename)\n",
    "\n",
    "# define your loss function for multiclass classification task\n",
    "# BCE does binary cross entropy automatically for each class\n",
    "loss_fn = torch.nn.MSELoss()\n",
    "for _ in tqdm.tqdm(range(epochs)):\n",
    "    model.train()\n",
    "    train_losses_epoch = []\n",
    "    for _ in range(train_dataloader.num_batches_per_epoch):\n",
    "        optimizer.zero_grad()\n",
    "        train_batch = train_dataloader.fetch_batch()\n",
    "        x_batch = train_batch['img_batch'].to(device)\n",
    "        y_batch = train_batch['age_batch'].to(device)\n",
    "        yhat = model(x_batch)  # Use only image batch\n",
    "        yhat = torch.squeeze(yhat)\n",
    "        train_loss = torch.mean(loss_fn(yhat, y_batch))  # Adjusted to label_batch\n",
    "\n",
    "        # Training data backward pass\n",
    "        train_loss.backward()\n",
    "        optimizer.step()\n",
    "        train_losses_epoch.append(train_loss.detach().cpu().numpy())\n",
    "    \n",
    "    train_losses.append(np.mean(train_losses_epoch))\n",
    "    \n",
    "    model.eval()\n",
    "    val_losses_epoch = []\n",
    "    with torch.no_grad():\n",
    "        for _ in range(val_dataloader.num_batches_per_epoch):\n",
    "            # Validation data forward pass only\n",
    "            val_batch = val_dataloader.fetch_batch()\n",
    "            x_batch = val_batch['img_batch'].to(device)\n",
    "            y_batch = val_batch['age_batch'].to(device)\n",
    "            \n",
    "            yhat = model(x_batch)  # Use only image batch\n",
    "            yhat = torch.squeeze(yhat)\n",
    "            val_loss = torch.mean(loss_fn(yhat, y_batch), axis=0)  # Adjusted to label_batch\n",
    "            val_losses_epoch.append(val_loss.detach().cpu().numpy())\n",
    "\n",
    "    val_losses.append(np.mean(val_losses_epoch))\n",
    "    \n",
    "    # Save checkpoint after each epoch\n",
    "    checkpoint_filename = f'model_checkpoints/cnn_checkpoint_epoch_{epoch}.pth'\n",
    "    save_checkpoint(model, optimizer, epoch, checkpoint_filename)"
   ]
  },
  {
   "cell_type": "code",
   "execution_count": 11,
   "metadata": {},
   "outputs": [],
   "source": [
    "#store train and validation losses\n",
    "torch.save(train_losses, 'tensor_collection\\\\cnn_train_losses.pt')\n",
    "torch.save(val_losses, 'tensor_collection\\\\cnn_val_losses.pt')\n",
    "#store epochs for plotting\n",
    "torch.save(epochs, 'tensor_collection\\\\cnn_epochs.pt')\n",
    "\n"
   ]
  },
  {
   "cell_type": "code",
   "execution_count": 14,
   "metadata": {},
   "outputs": [
    {
     "name": "stdout",
     "output_type": "stream",
     "text": [
      "   num_haircuts_life  has_tiktok  remembers_disco  uses_skincare  \\\n",
      "0                229           1                0              0   \n",
      "1                237           0                0              0   \n",
      "2                346           0                0              1   \n",
      "3                390           1                0              0   \n",
      "4                 84           0                0              0   \n",
      "\n",
      "   max_annual_earnings  race_asian  race_black  race_indian  race_other  \\\n",
      "0        186190.884193           0           0            1           0   \n",
      "1        292089.985703           0           1            0           0   \n",
      "2        330816.556160           0           0            0           0   \n",
      "3         76057.894571           0           0            0           0   \n",
      "4          2609.930728           0           0            0           0   \n",
      "\n",
      "   race_white  gender_female  gender_male  bias  \\\n",
      "0           0              0            1     1   \n",
      "1           0              1            0     1   \n",
      "2           1              1            0     1   \n",
      "3           1              0            1     1   \n",
      "4           1              0            1     1   \n",
      "\n",
      "                                            filename  \n",
      "0  preprocessed_images\\33_0_3_20170119200502940.j...  \n",
      "1  preprocessed_images\\32_1_1_20170113012735154.j...  \n",
      "2  preprocessed_images\\45_1_0_20170110140908362.j...  \n",
      "3  preprocessed_images\\50_0_0_20170109004250555.j...  \n",
      "4  preprocessed_images\\12_0_0_20170110224833703.j...  \n"
     ]
    },
    {
     "name": "stderr",
     "output_type": "stream",
     "text": [
      " 34%|███▍      | 17/50 [02:47<05:25,  9.85s/it]\n"
     ]
    },
    {
     "ename": "KeyboardInterrupt",
     "evalue": "",
     "output_type": "error",
     "traceback": [
      "\u001b[1;31m---------------------------------------------------------------------------\u001b[0m",
      "\u001b[1;31mKeyboardInterrupt\u001b[0m                         Traceback (most recent call last)",
      "\u001b[1;32mc:\\Users\\phili\\Documents\\MLFinal\\MLFinal\\Benjamin_Philipose\\model_training.ipynb Cell 14\u001b[0m line \u001b[0;36m4\n\u001b[0;32m     <a href='vscode-notebook-cell:/c%3A/Users/phili/Documents/MLFinal/MLFinal/Benjamin_Philipose/model_training.ipynb#X36sZmlsZQ%3D%3D?line=36'>37</a>\u001b[0m yhat \u001b[39m=\u001b[39m torch\u001b[39m.\u001b[39msqueeze(yhat)\n\u001b[0;32m     <a href='vscode-notebook-cell:/c%3A/Users/phili/Documents/MLFinal/MLFinal/Benjamin_Philipose/model_training.ipynb#X36sZmlsZQ%3D%3D?line=37'>38</a>\u001b[0m train_loss \u001b[39m=\u001b[39m loss_fn(yhat, y_batch)\n\u001b[1;32m---> <a href='vscode-notebook-cell:/c%3A/Users/phili/Documents/MLFinal/MLFinal/Benjamin_Philipose/model_training.ipynb#X36sZmlsZQ%3D%3D?line=39'>40</a>\u001b[0m train_loss\u001b[39m.\u001b[39;49mbackward()\n\u001b[0;32m     <a href='vscode-notebook-cell:/c%3A/Users/phili/Documents/MLFinal/MLFinal/Benjamin_Philipose/model_training.ipynb#X36sZmlsZQ%3D%3D?line=40'>41</a>\u001b[0m optimizer\u001b[39m.\u001b[39mstep()\n\u001b[0;32m     <a href='vscode-notebook-cell:/c%3A/Users/phili/Documents/MLFinal/MLFinal/Benjamin_Philipose/model_training.ipynb#X36sZmlsZQ%3D%3D?line=41'>42</a>\u001b[0m train_losses_epoch\u001b[39m.\u001b[39mappend(train_loss\u001b[39m.\u001b[39mitem())\n",
      "File \u001b[1;32mc:\\Users\\phili\\Documents\\MLFinal\\MLFinal\\venv\\Lib\\site-packages\\torch\\_tensor.py:492\u001b[0m, in \u001b[0;36mTensor.backward\u001b[1;34m(self, gradient, retain_graph, create_graph, inputs)\u001b[0m\n\u001b[0;32m    482\u001b[0m \u001b[39mif\u001b[39;00m has_torch_function_unary(\u001b[39mself\u001b[39m):\n\u001b[0;32m    483\u001b[0m     \u001b[39mreturn\u001b[39;00m handle_torch_function(\n\u001b[0;32m    484\u001b[0m         Tensor\u001b[39m.\u001b[39mbackward,\n\u001b[0;32m    485\u001b[0m         (\u001b[39mself\u001b[39m,),\n\u001b[1;32m   (...)\u001b[0m\n\u001b[0;32m    490\u001b[0m         inputs\u001b[39m=\u001b[39minputs,\n\u001b[0;32m    491\u001b[0m     )\n\u001b[1;32m--> 492\u001b[0m torch\u001b[39m.\u001b[39;49mautograd\u001b[39m.\u001b[39;49mbackward(\n\u001b[0;32m    493\u001b[0m     \u001b[39mself\u001b[39;49m, gradient, retain_graph, create_graph, inputs\u001b[39m=\u001b[39;49minputs\n\u001b[0;32m    494\u001b[0m )\n",
      "File \u001b[1;32mc:\\Users\\phili\\Documents\\MLFinal\\MLFinal\\venv\\Lib\\site-packages\\torch\\autograd\\__init__.py:251\u001b[0m, in \u001b[0;36mbackward\u001b[1;34m(tensors, grad_tensors, retain_graph, create_graph, grad_variables, inputs)\u001b[0m\n\u001b[0;32m    246\u001b[0m     retain_graph \u001b[39m=\u001b[39m create_graph\n\u001b[0;32m    248\u001b[0m \u001b[39m# The reason we repeat the same comment below is that\u001b[39;00m\n\u001b[0;32m    249\u001b[0m \u001b[39m# some Python versions print out the first line of a multi-line function\u001b[39;00m\n\u001b[0;32m    250\u001b[0m \u001b[39m# calls in the traceback and some print out the last line\u001b[39;00m\n\u001b[1;32m--> 251\u001b[0m Variable\u001b[39m.\u001b[39;49m_execution_engine\u001b[39m.\u001b[39;49mrun_backward(  \u001b[39m# Calls into the C++ engine to run the backward pass\u001b[39;49;00m\n\u001b[0;32m    252\u001b[0m     tensors,\n\u001b[0;32m    253\u001b[0m     grad_tensors_,\n\u001b[0;32m    254\u001b[0m     retain_graph,\n\u001b[0;32m    255\u001b[0m     create_graph,\n\u001b[0;32m    256\u001b[0m     inputs,\n\u001b[0;32m    257\u001b[0m     allow_unreachable\u001b[39m=\u001b[39;49m\u001b[39mTrue\u001b[39;49;00m,\n\u001b[0;32m    258\u001b[0m     accumulate_grad\u001b[39m=\u001b[39;49m\u001b[39mTrue\u001b[39;49;00m,\n\u001b[0;32m    259\u001b[0m )\n",
      "\u001b[1;31mKeyboardInterrupt\u001b[0m: "
     ]
    }
   ],
   "source": [
    "from networks import MultiModalNetwork  # Use the multimodal network class\n",
    "\n",
    "#get number of numerical features\n",
    "num_numerical_features = cnn_x_train.shape[1] - 1\n",
    "print(cnn_x_train.head())\n",
    "\n",
    "train_dataloader = CustomDataloader(dataframe=cnn_x_train, age=cnn_y_train_tensor, batch_size=50, randomize=True)\n",
    "val_dataloader = CustomDataloader(dataframe=cnn_x_val, age=cnn_y_val_tensor, batch_size=50, randomize=False)\n",
    "\n",
    "model = MultiModalNetwork(num_numerical_features).to(device)  # Adjust for the number of numerical features\n",
    "\n",
    "optimizer = torch.optim.Adam(model.parameters(), lr=1e-4)\n",
    "train_losses = []\n",
    "val_losses = []\n",
    "epochs = 50\n",
    "loss_fn = torch.nn.MSELoss()\n",
    "\n",
    "def save_checkpoint(model, optimizer, epoch, filename):\n",
    "    checkpoint = {\n",
    "        'epoch': epoch,\n",
    "        'model_state_dict': model.state_dict(),\n",
    "        'optimizer_state_dict': optimizer.state_dict()\n",
    "    }\n",
    "    torch.save(checkpoint, filename)\n",
    "\n",
    "for epoch in tqdm.tqdm(range(epochs)):\n",
    "    model.train()  # Set the model to training mode\n",
    "    train_losses_epoch = []\n",
    "    for _ in range(train_dataloader.num_batches_per_epoch):\n",
    "        optimizer.zero_grad()\n",
    "        train_batch = train_dataloader.fetch_batch()\n",
    "        x_batch = train_batch['img_batch'].to(device)\n",
    "        num_features = train_batch['feat_batch'].to(device)  # Fetch numerical features\n",
    "        y_batch = train_batch['age_batch'].to(device)\n",
    "        \n",
    "        yhat = model(x_batch, num_features)  # Pass both image and numerical data\n",
    "        yhat = torch.squeeze(yhat)\n",
    "        train_loss = loss_fn(yhat, y_batch)\n",
    "        \n",
    "        train_loss.backward()\n",
    "        optimizer.step()\n",
    "        train_losses_epoch.append(train_loss.item())\n",
    "    \n",
    "    train_losses.append(np.mean(train_losses_epoch))\n",
    "    \n",
    "    model.eval()  # Set the model to evaluation mode\n",
    "    val_losses_epoch = []\n",
    "    with torch.no_grad():\n",
    "        for _ in range(val_dataloader.num_batches_per_epoch):\n",
    "            val_batch = val_dataloader.fetch_batch()\n",
    "            x_batch = val_batch['img_batch'].to(device)\n",
    "            num_features = val_batch['feat_batch'].to(device)  # Fetch numerical features\n",
    "            y_batch = val_batch['age_batch'].to(device)\n",
    "            \n",
    "            yhat = model(x_batch, num_features)  # Pass both image and numerical data\n",
    "            yhat = torch.squeeze(yhat)\n",
    "            val_loss = loss_fn(yhat, y_batch)\n",
    "            val_losses_epoch.append(val_loss.detach().cpu().numpy())\n",
    "\n",
    "    val_losses.append(np.mean(val_losses_epoch))\n",
    "    \n",
    "    # Save checkpoint after each epoch\n",
    "    checkpoint_filename = f'model_checkpoints/mmn_checkpoint_epoch_{epoch}.pth'\n",
    "    save_checkpoint(model, optimizer, epoch, checkpoint_filename)"
   ]
  },
  {
   "cell_type": "code",
   "execution_count": 13,
   "metadata": {},
   "outputs": [],
   "source": [
    "#store train and validation losses\n",
    "torch.save(train_losses, 'tensor_collection\\\\mmn_train_losses.pt')\n",
    "torch.save(val_losses, 'tensor_collection\\\\mmn_val_losses.pt')\n",
    "#store epochs for plotting\n",
    "torch.save(epochs, 'tensor_collection\\\\mmn_epochs.pt')\n",
    "\n"
   ]
  }
 ],
 "metadata": {
  "kernelspec": {
   "display_name": "venv",
   "language": "python",
   "name": "python3"
  },
  "language_info": {
   "codemirror_mode": {
    "name": "ipython",
    "version": 3
   },
   "file_extension": ".py",
   "mimetype": "text/x-python",
   "name": "python",
   "nbconvert_exporter": "python",
   "pygments_lexer": "ipython3",
   "version": "3.11.5"
  }
 },
 "nbformat": 4,
 "nbformat_minor": 2
}
