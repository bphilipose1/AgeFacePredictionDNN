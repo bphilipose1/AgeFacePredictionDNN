{
 "cells": [
  {
   "cell_type": "code",
   "execution_count": 1,
   "metadata": {},
   "outputs": [],
   "source": [
    "import numpy as np\n",
    "import pandas as pd\n",
    "import torch\n",
    "import torch.nn as nn\n",
    "from utils import calculate_gradient_and_update, cnn_train_step, cnn_val_step, save_checkpoint, mmn_train_step, mmn_val_step\n",
    "from dataloader import CustomDataloader\n",
    "from networks import CNNRegression, MultiModalNetwork\n",
    "import tqdm"
   ]
  },
  {
   "cell_type": "markdown",
   "metadata": {},
   "source": [
    "#### Automatic GPU optimization, if available"
   ]
  },
  {
   "cell_type": "code",
   "execution_count": 2,
   "metadata": {},
   "outputs": [
    {
     "name": "stdout",
     "output_type": "stream",
     "text": [
      "Is CUDA available?  True\n"
     ]
    }
   ],
   "source": [
    "cuda_available = torch.cuda.is_available()\n",
    "print(\"Is CUDA available? \", cuda_available)"
   ]
  },
  {
   "cell_type": "code",
   "execution_count": 3,
   "metadata": {},
   "outputs": [
    {
     "name": "stdout",
     "output_type": "stream",
     "text": [
      "Using GPU: NVIDIA GeForce GTX 1660 Ti\n"
     ]
    }
   ],
   "source": [
    "if (torch.cuda.is_available()):\n",
    "    device = torch.device(\"cuda\")\n",
    "    print('Using GPU:', torch.cuda.get_device_name(0))\n",
    "else:\n",
    "    device = torch.device(\"cpu\")\n",
    "    print('GPU not available, using CPU')\n",
    "    "
   ]
  },
  {
   "cell_type": "markdown",
   "metadata": {},
   "source": [
    "### Model 1 - Linear Regression ###"
   ]
  },
  {
   "cell_type": "code",
   "execution_count": 4,
   "metadata": {},
   "outputs": [],
   "source": [
    "#load train test and validation data from tensor_collection\n",
    "cm_x_train = torch.load('tensor_collection\\\\cm_x_train.pt')\n",
    "cm_y_train = torch.load('tensor_collection\\\\cm_y_train.pt')\n",
    "cm_x_test = torch.load('tensor_collection\\\\cm_x_test.pt')\n",
    "cm_y_test = torch.load('tensor_collection\\\\cm_y_test.pt')\n",
    "cm_x_val = torch.load('tensor_collection\\\\cm_x_val.pt')\n",
    "cm_y_val = torch.load('tensor_collection\\\\cm_y_val.pt')\n",
    "\n"
   ]
  },
  {
   "cell_type": "markdown",
   "metadata": {},
   "source": [
    "#### Hyperparameters setup"
   ]
  },
  {
   "cell_type": "code",
   "execution_count": 5,
   "metadata": {},
   "outputs": [],
   "source": [
    "num_features = cm_x_train.shape[1]\n",
    "\n",
    "train_loss_history = []\n",
    "val_loss_history = []\n",
    "num_epochs = 100\n",
    "alpha = 0.1\n",
    "\n",
    "# Initialize theta to random values between -2 and 2\n",
    "theta = np.random.uniform(-2, 2, (num_features))\n"
   ]
  },
  {
   "cell_type": "markdown",
   "metadata": {},
   "source": [
    "#### Model 1 - Training Loop "
   ]
  },
  {
   "cell_type": "code",
   "execution_count": 6,
   "metadata": {},
   "outputs": [],
   "source": [
    "\n",
    "# Training Loop\n",
    "for t in range(num_epochs):\n",
    "    # Training step\n",
    "    train_loss, theta = calculate_gradient_and_update(cm_x_train, cm_y_train, theta, alpha)\n",
    "    train_loss_history.append(train_loss)\n",
    "\n",
    "    # Validation step\n",
    "    val_loss, _ = calculate_gradient_and_update(cm_x_val, cm_y_val, theta, 0)  # alpha=0 to prevent updates\n",
    "    val_loss_history.append(val_loss)\n"
   ]
  },
  {
   "cell_type": "code",
   "execution_count": 7,
   "metadata": {},
   "outputs": [],
   "source": [
    "#save theta and loss history for analysis notebook\n",
    "theta_torch = torch.tensor(theta, dtype=torch.float32)\n",
    "train_loss_history_torch = torch.tensor(train_loss_history, dtype=torch.float32)\n",
    "val_loss_history_torch = torch.tensor(val_loss_history, dtype=torch.float32)\n",
    "\n",
    "torch.save(theta_torch, 'tensor_collection\\\\lr_theta.pt')\n",
    "torch.save(train_loss_history_torch, 'tensor_collection\\\\lr_train_loss.pt')\n",
    "torch.save(val_loss_history_torch, 'tensor_collection\\\\lr_val_loss.pt')\n"
   ]
  },
  {
   "cell_type": "markdown",
   "metadata": {},
   "source": [
    "### Model 2 - Training CNN ###"
   ]
  },
  {
   "cell_type": "markdown",
   "metadata": {},
   "source": [
    "#### Load in Train, Val, and Test sets for Model 2"
   ]
  },
  {
   "cell_type": "code",
   "execution_count": 8,
   "metadata": {},
   "outputs": [
    {
     "name": "stdout",
     "output_type": "stream",
     "text": [
      "<class 'pandas.core.frame.DataFrame'>\n",
      "<class 'numpy.ndarray'>\n"
     ]
    }
   ],
   "source": [
    "directory = 'tensor_collection\\\\'\n",
    "\n",
    "#load train and val csv files\n",
    "nn_x_train = pd.read_csv(directory + 'nn_x_train.csv')\n",
    "nn_x_val = pd.read_csv(directory + 'nn_x_val.csv')\n",
    "nn_y_train_tensor = torch.load(directory + 'nn_y_train.pt')\n",
    "nn_y_val_tensor = torch.load(directory + 'nn_y_val.pt')\n",
    "\n",
    "print(type(nn_x_train))\n",
    "print(type(nn_y_train_tensor))\n"
   ]
  },
  {
   "cell_type": "markdown",
   "metadata": {},
   "source": [
    "#### Model 2 - Hyperparameters"
   ]
  },
  {
   "cell_type": "code",
   "execution_count": 9,
   "metadata": {},
   "outputs": [],
   "source": [
    "model = CNNRegression().to(device)\n",
    "optimizer = torch.optim.Adam(model.parameters(), lr=1e-4)\n",
    "epochs = 10\n",
    "loss_fn = nn.MSELoss()\n",
    "batch_sz = 20"
   ]
  },
  {
   "cell_type": "markdown",
   "metadata": {},
   "source": [
    "#### Instantiating Train and Val Dataloaders"
   ]
  },
  {
   "cell_type": "code",
   "execution_count": 10,
   "metadata": {},
   "outputs": [],
   "source": [
    "train_dataloader = CustomDataloader(dataframe=nn_x_train, age=nn_y_train_tensor, batch_size=batch_sz, randomize=True)\n",
    "val_dataloader = CustomDataloader(dataframe=nn_x_val, age=nn_y_val_tensor, batch_size=batch_sz, randomize=False)"
   ]
  },
  {
   "cell_type": "markdown",
   "metadata": {},
   "source": [
    "#### Model 2 - Training Loop"
   ]
  },
  {
   "cell_type": "code",
   "execution_count": 11,
   "metadata": {},
   "outputs": [
    {
     "name": "stderr",
     "output_type": "stream",
     "text": [
      "  0%|          | 0/10 [00:00<?, ?it/s]"
     ]
    },
    {
     "name": "stdout",
     "output_type": "stream",
     "text": [
      "Fetch: 1 :  True\n",
      "Step_Train: 1 :  True\n",
      "Fetch: 2 :  True\n",
      "Step_Train: 2 :  True\n",
      "Fetch: 3 :  True\n",
      "Step_Train: 3 :  True\n",
      "Fetch: 4 :  True\n",
      "Step_Train: 4 :  True\n",
      "Fetch: 5 :  True\n",
      "Step_Train: 5 :  True\n",
      "Fetch: 6 :  True\n",
      "Step_Train: 6 :  True\n",
      "Fetch: 7 :  True\n",
      "Step_Train: 7 :  True\n",
      "Fetch: 8 :  True\n",
      "Step_Train: 8 :  True\n",
      "Fetch: 9 :  True\n",
      "Step_Train: 9 :  True\n",
      "Fetch: 10 :  True\n",
      "Step_Train: 10 :  True\n",
      "Fetch: 11 :  True\n",
      "Step_Train: 11 :  True\n",
      "Fetch: 12 :  True\n",
      "Step_Train: 12 :  True\n",
      "Fetch: 13 :  True\n",
      "Step_Train: 13 :  True\n",
      "Fetch: 14 :  True\n",
      "Step_Train: 14 :  True\n",
      "Fetch: 15 :  True\n",
      "Step_Train: 15 :  True\n",
      "Fetch: 16 :  True\n",
      "Step_Train: 16 :  True\n",
      "Fetch: 17 :  True\n",
      "Step_Train: 17 :  True\n",
      "Fetch: 18 :  True\n",
      "Step_Train: 18 :  True\n",
      "Fetch: 19 :  True\n",
      "Step_Train: 19 :  True\n",
      "Fetch: 20 :  True\n",
      "Step_Train: 20 :  True\n",
      "Fetch: 21 :  True\n",
      "Step_Train: 21 :  True\n",
      "Fetch: 22 :  True\n",
      "Step_Train: 22 :  True\n",
      "Fetch: 23 :  True\n",
      "Step_Train: 23 :  True\n",
      "Fetch: 24 :  True\n",
      "Step_Train: 24 :  True\n",
      "Fetch: 25 :  True\n",
      "Step_Train: 25 :  True\n",
      "Fetch: 26 :  True\n",
      "Step_Train: 26 :  True\n",
      "Fetch: 27 :  True\n",
      "Step_Train: 27 :  True\n",
      "Fetch: 28 :  True\n",
      "Step_Train: 28 :  True\n",
      "Fetch: 29 :  True\n",
      "Step_Train: 29 :  True\n",
      "Fetch: 30 :  True\n",
      "Step_Train: 30 :  True\n",
      "Fetch: 31 :  True\n",
      "Step_Train: 31 :  True\n",
      "Fetch: 32 :  True\n",
      "Step_Train: 32 :  True\n",
      "Fetch: 33 :  True\n",
      "Step_Train: 33 :  True\n",
      "Fetch: 34 :  True\n",
      "Step_Train: 34 :  True\n",
      "Fetch: 35 :  True\n",
      "Step_Train: 35 :  True\n",
      "Fetch: 36 :  True\n",
      "Step_Train: 36 :  True\n"
     ]
    },
    {
     "name": "stderr",
     "output_type": "stream",
     "text": [
      " 10%|█         | 1/10 [00:01<00:10,  1.16s/it]"
     ]
    },
    {
     "name": "stdout",
     "output_type": "stream",
     "text": [
      "Fetch: 37 :  True\n",
      "Step_Train: 37 :  True\n",
      "Fetch: 38 :  True\n",
      "Step_Train: 38 :  True\n",
      "Fetch: 39 :  True\n",
      "Step_Train: 39 :  True\n",
      "Fetch: 40 :  True\n",
      "Step_Train: 40 :  True\n",
      "Fetch: 1 :  True\n",
      "Step_Val: 1 :  True\n",
      "Fetch: 2 :  True\n",
      "Step_Val: 2 :  True\n",
      "Fetch: 3 :  True\n",
      "Step_Val: 3 :  True\n",
      "Fetch: 4 :  True\n",
      "Step_Val: 4 :  True\n",
      "Fetch: 5 :  True\n",
      "Step_Val: 5 :  True\n",
      "Fetch: 1 :  True\n",
      "Step_Train: 1 :  True\n",
      "Fetch: 2 :  True\n",
      "Step_Train: 2 :  True\n",
      "Fetch: 3 :  True\n",
      "Step_Train: 3 :  True\n",
      "Fetch: 4 :  True\n",
      "Step_Train: 4 :  True\n",
      "Fetch: 5 :  True\n",
      "Step_Train: 5 :  True\n",
      "Fetch: 6 :  True\n",
      "Step_Train: 6 :  True\n",
      "Fetch: 7 :  True\n",
      "Step_Train: 7 :  True\n",
      "Fetch: 8 :  True\n",
      "Step_Train: 8 :  True\n",
      "Fetch: 9 :  True\n",
      "Step_Train: 9 :  True\n",
      "Fetch: 10 :  True\n",
      "Step_Train: 10 :  True\n",
      "Fetch: 11 :  True\n",
      "Step_Train: 11 :  True\n",
      "Fetch: 12 :  True\n",
      "Step_Train: 12 :  True\n",
      "Fetch: 13 :  True\n",
      "Step_Train: 13 :  True\n",
      "Fetch: 14 :  True\n",
      "Step_Train: 14 :  True\n",
      "Fetch: 15 :  True\n",
      "Step_Train: 15 :  True\n",
      "Fetch: 16 :  True\n",
      "Step_Train: 16 :  True\n",
      "Fetch: 17 :  True\n",
      "Step_Train: 17 :  True\n",
      "Fetch: 18 :  True\n",
      "Step_Train: 18 :  True\n",
      "Fetch: 19 :  True\n",
      "Step_Train: 19 :  True\n",
      "Fetch: 20 :  True\n",
      "Step_Train: 20 :  True\n",
      "Fetch: 21 :  True\n",
      "Step_Train: 21 :  True\n",
      "Fetch: 22 :  True\n",
      "Step_Train: 22 :  True\n",
      "Fetch: 23 :  True\n",
      "Step_Train: 23 :  True\n",
      "Fetch: 24 :  True\n",
      "Step_Train: 24 :  True\n",
      "Fetch: 25 :  True\n",
      "Step_Train: 25 :  True\n",
      "Fetch: 26 :  True\n",
      "Step_Train: 26 :  True\n",
      "Fetch: 27 :  True\n",
      "Step_Train: 27 :  True\n",
      "Fetch: 28 :  True\n",
      "Step_Train: 28 :  True\n",
      "Fetch: 29 :  True\n",
      "Step_Train: 29 :  True\n",
      "Fetch: 30 :  True\n",
      "Step_Train: 30 :  True\n",
      "Fetch: 31 :  True\n",
      "Step_Train: 31 :  True\n",
      "Fetch: 32 :  True\n",
      "Step_Train: 32 :  True\n",
      "Fetch: 33 :  True\n",
      "Step_Train: 33 :  True\n",
      "Fetch: 34 :  True\n",
      "Step_Train: 34 :  True\n",
      "Fetch: 35 :  True\n",
      "Step_Train: 35 :  True\n",
      "Fetch: 36 :  True\n",
      "Step_Train: 36 :  True\n"
     ]
    },
    {
     "name": "stderr",
     "output_type": "stream",
     "text": [
      " 20%|██        | 2/10 [00:02<00:07,  1.00it/s]"
     ]
    },
    {
     "name": "stdout",
     "output_type": "stream",
     "text": [
      "Fetch: 37 :  True\n",
      "Step_Train: 37 :  True\n",
      "Fetch: 38 :  True\n",
      "Step_Train: 38 :  True\n",
      "Fetch: 39 :  True\n",
      "Step_Train: 39 :  True\n",
      "Fetch: 40 :  True\n",
      "Step_Train: 40 :  True\n",
      "Fetch: 1 :  True\n",
      "Step_Val: 1 :  True\n",
      "Fetch: 2 :  True\n",
      "Step_Val: 2 :  True\n",
      "Fetch: 3 :  True\n",
      "Step_Val: 3 :  True\n",
      "Fetch: 4 :  True\n",
      "Step_Val: 4 :  True\n",
      "Fetch: 5 :  True\n",
      "Step_Val: 5 :  True\n",
      "Fetch: 1 :  True\n",
      "Step_Train: 1 :  True\n",
      "Fetch: 2 :  True\n",
      "Step_Train: 2 :  True\n",
      "Fetch: 3 :  True\n",
      "Step_Train: 3 :  True\n",
      "Fetch: 4 :  True\n",
      "Step_Train: 4 :  True\n",
      "Fetch: 5 :  True\n",
      "Step_Train: 5 :  True\n",
      "Fetch: 6 :  True\n",
      "Step_Train: 6 :  True\n",
      "Fetch: 7 :  True\n",
      "Step_Train: 7 :  True\n",
      "Fetch: 8 :  True\n",
      "Step_Train: 8 :  True\n",
      "Fetch: 9 :  True\n",
      "Step_Train: 9 :  True\n",
      "Fetch: 10 :  True\n",
      "Step_Train: 10 :  True\n",
      "Fetch: 11 :  True\n",
      "Step_Train: 11 :  True\n",
      "Fetch: 12 :  True\n",
      "Step_Train: 12 :  True\n",
      "Fetch: 13 :  True\n",
      "Step_Train: 13 :  True\n",
      "Fetch: 14 :  True\n",
      "Step_Train: 14 :  True\n",
      "Fetch: 15 :  True\n",
      "Step_Train: 15 :  True\n",
      "Fetch: 16 :  True\n",
      "Step_Train: 16 :  True\n",
      "Fetch: 17 :  True\n",
      "Step_Train: 17 :  True\n",
      "Fetch: 18 :  True\n",
      "Step_Train: 18 :  True\n",
      "Fetch: 19 :  True\n",
      "Step_Train: 19 :  True\n",
      "Fetch: 20 :  True\n",
      "Step_Train: 20 :  True\n",
      "Fetch: 21 :  True\n",
      "Step_Train: 21 :  True\n",
      "Fetch: 22 :  True\n",
      "Step_Train: 22 :  True\n",
      "Fetch: 23 :  True\n",
      "Step_Train: 23 :  True\n",
      "Fetch: 24 :  True\n",
      "Step_Train: 24 :  True\n",
      "Fetch: 25 :  True\n",
      "Step_Train: 25 :  True\n",
      "Fetch: 26 :  True\n",
      "Step_Train: 26 :  True\n",
      "Fetch: 27 :  True\n",
      "Step_Train: 27 :  True\n",
      "Fetch: 28 :  True\n",
      "Step_Train: 28 :  True\n",
      "Fetch: 29 :  True\n",
      "Step_Train: 29 :  True\n",
      "Fetch: 30 :  True\n",
      "Step_Train: 30 :  True\n",
      "Fetch: 31 :  True\n",
      "Step_Train: 31 :  True\n",
      "Fetch: 32 :  True\n",
      "Step_Train: 32 :  True\n",
      "Fetch: 33 :  True\n",
      "Step_Train: 33 :  True\n",
      "Fetch: 34 :  True\n",
      "Step_Train: 34 :  True\n",
      "Fetch: 35 :  True\n",
      "Step_Train: 35 :  True\n",
      "Fetch: 36 :  True\n",
      "Step_Train: 36 :  True\n",
      "Fetch: 37 :  True\n",
      "Step_Train: 37 :  True\n",
      "Fetch: 38 :  True\n",
      "Step_Train: 38 :  True\n"
     ]
    },
    {
     "name": "stderr",
     "output_type": "stream",
     "text": [
      " 30%|███       | 3/10 [00:02<00:06,  1.08it/s]"
     ]
    },
    {
     "name": "stdout",
     "output_type": "stream",
     "text": [
      "Fetch: 39 :  True\n",
      "Step_Train: 39 :  True\n",
      "Fetch: 40 :  True\n",
      "Step_Train: 40 :  True\n",
      "Fetch: 1 :  True\n",
      "Step_Val: 1 :  True\n",
      "Fetch: 2 :  True\n",
      "Step_Val: 2 :  True\n",
      "Fetch: 3 :  True\n",
      "Step_Val: 3 :  True\n",
      "Fetch: 4 :  True\n",
      "Step_Val: 4 :  True\n",
      "Fetch: 5 :  True\n",
      "Step_Val: 5 :  True\n",
      "Fetch: 1 :  True\n",
      "Step_Train: 1 :  True\n",
      "Fetch: 2 :  True\n",
      "Step_Train: 2 :  True\n",
      "Fetch: 3 :  True\n",
      "Step_Train: 3 :  True\n",
      "Fetch: 4 :  True\n",
      "Step_Train: 4 :  True\n",
      "Fetch: 5 :  True\n",
      "Step_Train: 5 :  True\n",
      "Fetch: 6 :  True\n",
      "Step_Train: 6 :  True\n",
      "Fetch: 7 :  True\n",
      "Step_Train: 7 :  True\n",
      "Fetch: 8 :  True\n",
      "Step_Train: 8 :  True\n",
      "Fetch: 9 :  True\n",
      "Step_Train: 9 :  True\n",
      "Fetch: 10 :  True\n",
      "Step_Train: 10 :  True\n",
      "Fetch: 11 :  True\n",
      "Step_Train: 11 :  True\n",
      "Fetch: 12 :  True\n",
      "Step_Train: 12 :  True\n",
      "Fetch: 13 :  True\n",
      "Step_Train: 13 :  True\n",
      "Fetch: 14 :  True\n",
      "Step_Train: 14 :  True\n",
      "Fetch: 15 :  True\n",
      "Step_Train: 15 :  True\n",
      "Fetch: 16 :  True\n",
      "Step_Train: 16 :  True\n",
      "Fetch: 17 :  True\n",
      "Step_Train: 17 :  True\n",
      "Fetch: 18 :  True\n",
      "Step_Train: 18 :  True\n",
      "Fetch: 19 :  True\n",
      "Step_Train: 19 :  True\n",
      "Fetch: 20 :  True\n",
      "Step_Train: 20 :  True\n",
      "Fetch: 21 :  True\n",
      "Step_Train: 21 :  True\n",
      "Fetch: 22 :  True\n",
      "Step_Train: 22 :  True\n",
      "Fetch: 23 :  True\n",
      "Step_Train: 23 :  True\n",
      "Fetch: 24 :  True\n",
      "Step_Train: 24 :  True\n",
      "Fetch: 25 :  True\n",
      "Step_Train: 25 :  True\n",
      "Fetch: 26 :  True\n",
      "Step_Train: 26 :  True\n",
      "Fetch: 27 :  True\n",
      "Step_Train: 27 :  True\n",
      "Fetch: 28 :  True\n",
      "Step_Train: 28 :  True\n",
      "Fetch: 29 :  True\n",
      "Step_Train: 29 :  True\n",
      "Fetch: 30 :  True\n",
      "Step_Train: 30 :  True\n",
      "Fetch: 31 :  True\n",
      "Step_Train: 31 :  True\n",
      "Fetch: 32 :  True\n",
      "Step_Train: 32 :  True\n",
      "Fetch: 33 :  True\n",
      "Step_Train: 33 :  True\n",
      "Fetch: 34 :  True\n",
      "Step_Train: 34 :  True\n",
      "Fetch: 35 :  True\n",
      "Step_Train: 35 :  True\n",
      "Fetch: 36 :  True\n",
      "Step_Train: 36 :  True\n",
      "Fetch: 37 :  True\n",
      "Step_Train: 37 :  True\n",
      "Fetch: 38 :  True\n",
      "Step_Train: 38 :  True\n"
     ]
    },
    {
     "name": "stderr",
     "output_type": "stream",
     "text": [
      " 40%|████      | 4/10 [00:03<00:05,  1.13it/s]"
     ]
    },
    {
     "name": "stdout",
     "output_type": "stream",
     "text": [
      "Fetch: 39 :  True\n",
      "Step_Train: 39 :  True\n",
      "Fetch: 40 :  True\n",
      "Step_Train: 40 :  True\n",
      "Fetch: 1 :  True\n",
      "Step_Val: 1 :  True\n",
      "Fetch: 2 :  True\n",
      "Step_Val: 2 :  True\n",
      "Fetch: 3 :  True\n",
      "Step_Val: 3 :  True\n",
      "Fetch: 4 :  True\n",
      "Step_Val: 4 :  True\n",
      "Fetch: 5 :  True\n",
      "Step_Val: 5 :  True\n",
      "Fetch: 1 :  True\n",
      "Step_Train: 1 :  True\n",
      "Fetch: 2 :  True\n",
      "Step_Train: 2 :  True\n",
      "Fetch: 3 :  True\n",
      "Step_Train: 3 :  True\n",
      "Fetch: 4 :  True\n",
      "Step_Train: 4 :  True\n",
      "Fetch: 5 :  True\n",
      "Step_Train: 5 :  True\n",
      "Fetch: 6 :  True\n",
      "Step_Train: 6 :  True\n",
      "Fetch: 7 :  True\n",
      "Step_Train: 7 :  True\n",
      "Fetch: 8 :  True\n",
      "Step_Train: 8 :  True\n",
      "Fetch: 9 :  True\n",
      "Step_Train: 9 :  True\n",
      "Fetch: 10 :  True\n",
      "Step_Train: 10 :  True\n",
      "Fetch: 11 :  True\n",
      "Step_Train: 11 :  True\n",
      "Fetch: 12 :  True\n",
      "Step_Train: 12 :  True\n",
      "Fetch: 13 :  True\n",
      "Step_Train: 13 :  True\n",
      "Fetch: 14 :  True\n",
      "Step_Train: 14 :  True\n",
      "Fetch: 15 :  True\n",
      "Step_Train: 15 :  True\n",
      "Fetch: 16 :  True\n",
      "Step_Train: 16 :  True\n",
      "Fetch: 17 :  True\n",
      "Step_Train: 17 :  True\n",
      "Fetch: 18 :  True\n",
      "Step_Train: 18 :  True\n",
      "Fetch: 19 :  True\n",
      "Step_Train: 19 :  True\n",
      "Fetch: 20 :  True\n",
      "Step_Train: 20 :  True\n",
      "Fetch: 21 :  True\n",
      "Step_Train: 21 :  True\n",
      "Fetch: 22 :  True\n",
      "Step_Train: 22 :  True\n",
      "Fetch: 23 :  True\n",
      "Step_Train: 23 :  True\n",
      "Fetch: 24 :  True\n",
      "Step_Train: 24 :  True\n",
      "Fetch: 25 :  True\n",
      "Step_Train: 25 :  True\n",
      "Fetch: 26 :  True\n",
      "Step_Train: 26 :  True\n",
      "Fetch: 27 :  True\n",
      "Step_Train: 27 :  True\n",
      "Fetch: 28 :  True\n",
      "Step_Train: 28 :  True\n",
      "Fetch: 29 :  True\n",
      "Step_Train: 29 :  True\n",
      "Fetch: 30 :  True\n",
      "Step_Train: 30 :  True\n",
      "Fetch: 31 :  True\n",
      "Step_Train: 31 :  True\n",
      "Fetch: 32 :  True\n",
      "Step_Train: 32 :  True\n",
      "Fetch: 33 :  True\n",
      "Step_Train: 33 :  True\n",
      "Fetch: 34 :  True\n",
      "Step_Train: 34 :  True\n",
      "Fetch: 35 :  True\n",
      "Step_Train: 35 :  True\n",
      "Fetch: 36 :  True\n",
      "Step_Train: 36 :  True\n",
      "Fetch: 37 :  True\n",
      "Step_Train: 37 :  True\n"
     ]
    },
    {
     "name": "stderr",
     "output_type": "stream",
     "text": [
      " 50%|█████     | 5/10 [00:04<00:04,  1.15it/s]"
     ]
    },
    {
     "name": "stdout",
     "output_type": "stream",
     "text": [
      "Fetch: 38 :  True\n",
      "Step_Train: 38 :  True\n",
      "Fetch: 39 :  True\n",
      "Step_Train: 39 :  True\n",
      "Fetch: 40 :  True\n",
      "Step_Train: 40 :  True\n",
      "Fetch: 1 :  True\n",
      "Step_Val: 1 :  True\n",
      "Fetch: 2 :  True\n",
      "Step_Val: 2 :  True\n",
      "Fetch: 3 :  True\n",
      "Step_Val: 3 :  True\n",
      "Fetch: 4 :  True\n",
      "Step_Val: 4 :  True\n",
      "Fetch: 5 :  True\n",
      "Step_Val: 5 :  True\n",
      "Fetch: 1 :  True\n",
      "Step_Train: 1 :  True\n",
      "Fetch: 2 :  True\n",
      "Step_Train: 2 :  True\n",
      "Fetch: 3 :  True\n",
      "Step_Train: 3 :  True\n",
      "Fetch: 4 :  True\n",
      "Step_Train: 4 :  True\n",
      "Fetch: 5 :  True\n",
      "Step_Train: 5 :  True\n",
      "Fetch: 6 :  True\n",
      "Step_Train: 6 :  True\n",
      "Fetch: 7 :  True\n",
      "Step_Train: 7 :  True\n",
      "Fetch: 8 :  True\n",
      "Step_Train: 8 :  True\n",
      "Fetch: 9 :  True\n",
      "Step_Train: 9 :  True\n",
      "Fetch: 10 :  True\n",
      "Step_Train: 10 :  True\n",
      "Fetch: 11 :  True\n",
      "Step_Train: 11 :  True\n",
      "Fetch: 12 :  True\n",
      "Step_Train: 12 :  True\n",
      "Fetch: 13 :  True\n",
      "Step_Train: 13 :  True\n",
      "Fetch: 14 :  True\n",
      "Step_Train: 14 :  True\n",
      "Fetch: 15 :  True\n",
      "Step_Train: 15 :  True\n",
      "Fetch: 16 :  True\n",
      "Step_Train: 16 :  True\n",
      "Fetch: 17 :  True\n",
      "Step_Train: 17 :  True\n",
      "Fetch: 18 :  True\n",
      "Step_Train: 18 :  True\n",
      "Fetch: 19 :  True\n",
      "Step_Train: 19 :  True\n",
      "Fetch: 20 :  True\n",
      "Step_Train: 20 :  True\n",
      "Fetch: 21 :  True\n",
      "Step_Train: 21 :  True\n",
      "Fetch: 22 :  True\n",
      "Step_Train: 22 :  True\n",
      "Fetch: 23 :  True\n",
      "Step_Train: 23 :  True\n",
      "Fetch: 24 :  True\n",
      "Step_Train: 24 :  True\n",
      "Fetch: 25 :  True\n",
      "Step_Train: 25 :  True\n",
      "Fetch: 26 :  True\n",
      "Step_Train: 26 :  True\n",
      "Fetch: 27 :  True\n",
      "Step_Train: 27 :  True\n",
      "Fetch: 28 :  True\n",
      "Step_Train: 28 :  True\n",
      "Fetch: 29 :  True\n",
      "Step_Train: 29 :  True\n",
      "Fetch: 30 :  True\n",
      "Step_Train: 30 :  True\n",
      "Fetch: 31 :  True\n",
      "Step_Train: 31 :  True\n",
      "Fetch: 32 :  True\n",
      "Step_Train: 32 :  True\n",
      "Fetch: 33 :  True\n",
      "Step_Train: 33 :  True\n",
      "Fetch: 34 :  True\n",
      "Step_Train: 34 :  True\n",
      "Fetch: 35 :  True\n",
      "Step_Train: 35 :  True\n",
      "Fetch: 36 :  True\n",
      "Step_Train: 36 :  True\n",
      "Fetch: 37 :  True\n",
      "Step_Train: 37 :  True\n",
      "Fetch: 38 :  True\n",
      "Step_Train: 38 :  True\n"
     ]
    },
    {
     "name": "stderr",
     "output_type": "stream",
     "text": [
      " 60%|██████    | 6/10 [00:05<00:03,  1.17it/s]"
     ]
    },
    {
     "name": "stdout",
     "output_type": "stream",
     "text": [
      "Fetch: 39 :  True\n",
      "Step_Train: 39 :  True\n",
      "Fetch: 40 :  True\n",
      "Step_Train: 40 :  True\n",
      "Fetch: 1 :  True\n",
      "Step_Val: 1 :  True\n",
      "Fetch: 2 :  True\n",
      "Step_Val: 2 :  True\n",
      "Fetch: 3 :  True\n",
      "Step_Val: 3 :  True\n",
      "Fetch: 4 :  True\n",
      "Step_Val: 4 :  True\n",
      "Fetch: 5 :  True\n",
      "Step_Val: 5 :  True\n",
      "Fetch: 1 :  True\n",
      "Step_Train: 1 :  True\n",
      "Fetch: 2 :  True\n",
      "Step_Train: 2 :  True\n",
      "Fetch: 3 :  True\n",
      "Step_Train: 3 :  True\n",
      "Fetch: 4 :  True\n",
      "Step_Train: 4 :  True\n",
      "Fetch: 5 :  True\n",
      "Step_Train: 5 :  True\n",
      "Fetch: 6 :  True\n",
      "Step_Train: 6 :  True\n",
      "Fetch: 7 :  True\n",
      "Step_Train: 7 :  True\n",
      "Fetch: 8 :  True\n",
      "Step_Train: 8 :  True\n",
      "Fetch: 9 :  True\n",
      "Step_Train: 9 :  True\n",
      "Fetch: 10 :  True\n",
      "Step_Train: 10 :  True\n",
      "Fetch: 11 :  True\n",
      "Step_Train: 11 :  True\n",
      "Fetch: 12 :  True\n",
      "Step_Train: 12 :  True\n",
      "Fetch: 13 :  True\n",
      "Step_Train: 13 :  True\n",
      "Fetch: 14 :  True\n",
      "Step_Train: 14 :  True\n",
      "Fetch: 15 :  True\n",
      "Step_Train: 15 :  True\n",
      "Fetch: 16 :  True\n",
      "Step_Train: 16 :  True\n",
      "Fetch: 17 :  True\n",
      "Step_Train: 17 :  True\n",
      "Fetch: 18 :  True\n",
      "Step_Train: 18 :  True\n",
      "Fetch: 19 :  True\n",
      "Step_Train: 19 :  True\n",
      "Fetch: 20 :  True\n",
      "Step_Train: 20 :  True\n",
      "Fetch: 21 :  True\n",
      "Step_Train: 21 :  True\n",
      "Fetch: 22 :  True\n",
      "Step_Train: 22 :  True\n",
      "Fetch: 23 :  True\n",
      "Step_Train: 23 :  True\n",
      "Fetch: 24 :  True\n",
      "Step_Train: 24 :  True\n",
      "Fetch: 25 :  True\n",
      "Step_Train: 25 :  True\n",
      "Fetch: 26 :  True\n",
      "Step_Train: 26 :  True\n",
      "Fetch: 27 :  True\n",
      "Step_Train: 27 :  True\n",
      "Fetch: 28 :  True\n",
      "Step_Train: 28 :  True\n",
      "Fetch: 29 :  True\n",
      "Step_Train: 29 :  True\n",
      "Fetch: 30 :  True\n",
      "Step_Train: 30 :  True\n",
      "Fetch: 31 :  True\n",
      "Step_Train: 31 :  True\n",
      "Fetch: 32 :  True\n",
      "Step_Train: 32 :  True\n",
      "Fetch: 33 :  True\n",
      "Step_Train: 33 :  True\n",
      "Fetch: 34 :  True\n",
      "Step_Train: 34 :  True\n",
      "Fetch: 35 :  True\n",
      "Step_Train: 35 :  True\n",
      "Fetch: 36 :  True\n",
      "Step_Train: 36 :  True\n",
      "Fetch: 37 :  True\n",
      "Step_Train: 37 :  True\n",
      "Fetch: 38 :  True\n",
      "Step_Train: 38 :  True\n"
     ]
    },
    {
     "name": "stderr",
     "output_type": "stream",
     "text": [
      " 70%|███████   | 7/10 [00:06<00:02,  1.17it/s]"
     ]
    },
    {
     "name": "stdout",
     "output_type": "stream",
     "text": [
      "Fetch: 39 :  True\n",
      "Step_Train: 39 :  True\n",
      "Fetch: 40 :  True\n",
      "Step_Train: 40 :  True\n",
      "Fetch: 1 :  True\n",
      "Step_Val: 1 :  True\n",
      "Fetch: 2 :  True\n",
      "Step_Val: 2 :  True\n",
      "Fetch: 3 :  True\n",
      "Step_Val: 3 :  True\n",
      "Fetch: 4 :  True\n",
      "Step_Val: 4 :  True\n",
      "Fetch: 5 :  True\n",
      "Step_Val: 5 :  True\n",
      "Fetch: 1 :  True\n",
      "Step_Train: 1 :  True\n",
      "Fetch: 2 :  True\n",
      "Step_Train: 2 :  True\n",
      "Fetch: 3 :  True\n",
      "Step_Train: 3 :  True\n",
      "Fetch: 4 :  True\n",
      "Step_Train: 4 :  True\n",
      "Fetch: 5 :  True\n",
      "Step_Train: 5 :  True\n",
      "Fetch: 6 :  True\n",
      "Step_Train: 6 :  True\n",
      "Fetch: 7 :  True\n",
      "Step_Train: 7 :  True\n",
      "Fetch: 8 :  True\n",
      "Step_Train: 8 :  True\n",
      "Fetch: 9 :  True\n",
      "Step_Train: 9 :  True\n",
      "Fetch: 10 :  True\n",
      "Step_Train: 10 :  True\n",
      "Fetch: 11 :  True\n",
      "Step_Train: 11 :  True\n",
      "Fetch: 12 :  True\n",
      "Step_Train: 12 :  True\n",
      "Fetch: 13 :  True\n",
      "Step_Train: 13 :  True\n",
      "Fetch: 14 :  True\n",
      "Step_Train: 14 :  True\n",
      "Fetch: 15 :  True\n",
      "Step_Train: 15 :  True\n",
      "Fetch: 16 :  True\n",
      "Step_Train: 16 :  True\n",
      "Fetch: 17 :  True\n",
      "Step_Train: 17 :  True\n",
      "Fetch: 18 :  True\n",
      "Step_Train: 18 :  True\n",
      "Fetch: 19 :  True\n",
      "Step_Train: 19 :  True\n",
      "Fetch: 20 :  True\n",
      "Step_Train: 20 :  True\n",
      "Fetch: 21 :  True\n",
      "Step_Train: 21 :  True\n",
      "Fetch: 22 :  True\n",
      "Step_Train: 22 :  True\n",
      "Fetch: 23 :  True\n",
      "Step_Train: 23 :  True\n",
      "Fetch: 24 :  True\n",
      "Step_Train: 24 :  True\n",
      "Fetch: 25 :  True\n",
      "Step_Train: 25 :  True\n",
      "Fetch: 26 :  True\n",
      "Step_Train: 26 :  True\n",
      "Fetch: 27 :  True\n",
      "Step_Train: 27 :  True\n",
      "Fetch: 28 :  True\n",
      "Step_Train: 28 :  True\n",
      "Fetch: 29 :  True\n",
      "Step_Train: 29 :  True\n",
      "Fetch: 30 :  True\n",
      "Step_Train: 30 :  True\n",
      "Fetch: 31 :  True\n",
      "Step_Train: 31 :  True\n",
      "Fetch: 32 :  True\n",
      "Step_Train: 32 :  True\n",
      "Fetch: 33 :  True\n",
      "Step_Train: 33 :  True\n",
      "Fetch: 34 :  True\n",
      "Step_Train: 34 :  True\n",
      "Fetch: 35 :  True\n",
      "Step_Train: 35 :  True\n",
      "Fetch: 36 :  True\n",
      "Step_Train: 36 :  True\n",
      "Fetch: 37 :  True\n",
      "Step_Train: 37 :  True\n"
     ]
    },
    {
     "name": "stderr",
     "output_type": "stream",
     "text": [
      " 80%|████████  | 8/10 [00:07<00:01,  1.17it/s]"
     ]
    },
    {
     "name": "stdout",
     "output_type": "stream",
     "text": [
      "Fetch: 38 :  True\n",
      "Step_Train: 38 :  True\n",
      "Fetch: 39 :  True\n",
      "Step_Train: 39 :  True\n",
      "Fetch: 40 :  True\n",
      "Step_Train: 40 :  True\n",
      "Fetch: 1 :  True\n",
      "Step_Val: 1 :  True\n",
      "Fetch: 2 :  True\n",
      "Step_Val: 2 :  True\n",
      "Fetch: 3 :  True\n",
      "Step_Val: 3 :  True\n",
      "Fetch: 4 :  True\n",
      "Step_Val: 4 :  True\n",
      "Fetch: 5 :  True\n",
      "Step_Val: 5 :  True\n",
      "Fetch: 1 :  True\n",
      "Step_Train: 1 :  True\n",
      "Fetch: 2 :  True\n",
      "Step_Train: 2 :  True\n",
      "Fetch: 3 :  True\n",
      "Step_Train: 3 :  True\n",
      "Fetch: 4 :  True\n",
      "Step_Train: 4 :  True\n",
      "Fetch: 5 :  True\n",
      "Step_Train: 5 :  True\n",
      "Fetch: 6 :  True\n",
      "Step_Train: 6 :  True\n",
      "Fetch: 7 :  True\n",
      "Step_Train: 7 :  True\n",
      "Fetch: 8 :  True\n",
      "Step_Train: 8 :  True\n",
      "Fetch: 9 :  True\n",
      "Step_Train: 9 :  True\n",
      "Fetch: 10 :  True\n",
      "Step_Train: 10 :  True\n",
      "Fetch: 11 :  True\n",
      "Step_Train: 11 :  True\n",
      "Fetch: 12 :  True\n",
      "Step_Train: 12 :  True\n",
      "Fetch: 13 :  True\n",
      "Step_Train: 13 :  True\n",
      "Fetch: 14 :  True\n",
      "Step_Train: 14 :  True\n",
      "Fetch: 15 :  True\n",
      "Step_Train: 15 :  True\n",
      "Fetch: 16 :  True\n",
      "Step_Train: 16 :  True\n",
      "Fetch: 17 :  True\n",
      "Step_Train: 17 :  True\n",
      "Fetch: 18 :  True\n",
      "Step_Train: 18 :  True\n",
      "Fetch: 19 :  True\n",
      "Step_Train: 19 :  True\n",
      "Fetch: 20 :  True\n",
      "Step_Train: 20 :  True\n",
      "Fetch: 21 :  True\n",
      "Step_Train: 21 :  True\n",
      "Fetch: 22 :  True\n",
      "Step_Train: 22 :  True\n",
      "Fetch: 23 :  True\n",
      "Step_Train: 23 :  True\n",
      "Fetch: 24 :  True\n",
      "Step_Train: 24 :  True\n",
      "Fetch: 25 :  True\n",
      "Step_Train: 25 :  True\n",
      "Fetch: 26 :  True\n",
      "Step_Train: 26 :  True\n",
      "Fetch: 27 :  True\n",
      "Step_Train: 27 :  True\n",
      "Fetch: 28 :  True\n",
      "Step_Train: 28 :  True\n",
      "Fetch: 29 :  True\n",
      "Step_Train: 29 :  True\n",
      "Fetch: 30 :  True\n",
      "Step_Train: 30 :  True\n",
      "Fetch: 31 :  True\n",
      "Step_Train: 31 :  True\n",
      "Fetch: 32 :  True\n",
      "Step_Train: 32 :  True\n",
      "Fetch: 33 :  True\n",
      "Step_Train: 33 :  True\n",
      "Fetch: 34 :  True\n",
      "Step_Train: 34 :  True\n",
      "Fetch: 35 :  True\n",
      "Step_Train: 35 :  True\n"
     ]
    },
    {
     "name": "stderr",
     "output_type": "stream",
     "text": [
      " 90%|█████████ | 9/10 [00:07<00:00,  1.15it/s]"
     ]
    },
    {
     "name": "stdout",
     "output_type": "stream",
     "text": [
      "Fetch: 36 :  True\n",
      "Step_Train: 36 :  True\n",
      "Fetch: 37 :  True\n",
      "Step_Train: 37 :  True\n",
      "Fetch: 38 :  True\n",
      "Step_Train: 38 :  True\n",
      "Fetch: 39 :  True\n",
      "Step_Train: 39 :  True\n",
      "Fetch: 40 :  True\n",
      "Step_Train: 40 :  True\n",
      "Fetch: 1 :  True\n",
      "Step_Val: 1 :  True\n",
      "Fetch: 2 :  True\n",
      "Step_Val: 2 :  True\n",
      "Fetch: 3 :  True\n",
      "Step_Val: 3 :  True\n",
      "Fetch: 4 :  True\n",
      "Step_Val: 4 :  True\n",
      "Fetch: 5 :  True\n",
      "Step_Val: 5 :  True\n",
      "Fetch: 1 :  True\n",
      "Step_Train: 1 :  True\n",
      "Fetch: 2 :  True\n",
      "Step_Train: 2 :  True\n",
      "Fetch: 3 :  True\n",
      "Step_Train: 3 :  True\n",
      "Fetch: 4 :  True\n",
      "Step_Train: 4 :  True\n",
      "Fetch: 5 :  True\n",
      "Step_Train: 5 :  True\n",
      "Fetch: 6 :  True\n",
      "Step_Train: 6 :  True\n",
      "Fetch: 7 :  True\n",
      "Step_Train: 7 :  True\n",
      "Fetch: 8 :  True\n",
      "Step_Train: 8 :  True\n",
      "Fetch: 9 :  True\n",
      "Step_Train: 9 :  True\n",
      "Fetch: 10 :  True\n",
      "Step_Train: 10 :  True\n",
      "Fetch: 11 :  True\n",
      "Step_Train: 11 :  True\n",
      "Fetch: 12 :  True\n",
      "Step_Train: 12 :  True\n",
      "Fetch: 13 :  True\n",
      "Step_Train: 13 :  True\n",
      "Fetch: 14 :  True\n",
      "Step_Train: 14 :  True\n",
      "Fetch: 15 :  True\n",
      "Step_Train: 15 :  True\n",
      "Fetch: 16 :  True\n",
      "Step_Train: 16 :  True\n",
      "Fetch: 17 :  True\n",
      "Step_Train: 17 :  True\n",
      "Fetch: 18 :  True\n",
      "Step_Train: 18 :  True\n",
      "Fetch: 19 :  True\n",
      "Step_Train: 19 :  True\n",
      "Fetch: 20 :  True\n",
      "Step_Train: 20 :  True\n",
      "Fetch: 21 :  True\n",
      "Step_Train: 21 :  True\n",
      "Fetch: 22 :  True\n",
      "Step_Train: 22 :  True\n",
      "Fetch: 23 :  True\n",
      "Step_Train: 23 :  True\n",
      "Fetch: 24 :  True\n",
      "Step_Train: 24 :  True\n",
      "Fetch: 25 :  True\n",
      "Step_Train: 25 :  True\n",
      "Fetch: 26 :  True\n",
      "Step_Train: 26 :  True\n",
      "Fetch: 27 :  True\n",
      "Step_Train: 27 :  True\n",
      "Fetch: 28 :  True\n",
      "Step_Train: 28 :  True\n",
      "Fetch: 29 :  True\n",
      "Step_Train: 29 :  True\n",
      "Fetch: 30 :  True\n",
      "Step_Train: 30 :  True\n",
      "Fetch: 31 :  True\n",
      "Step_Train: 31 :  True\n",
      "Fetch: 32 :  True\n",
      "Step_Train: 32 :  True\n",
      "Fetch: 33 :  True\n",
      "Step_Train: 33 :  True\n",
      "Fetch: 34 :  True\n",
      "Step_Train: 34 :  True\n",
      "Fetch: 35 :  True\n",
      "Step_Train: 35 :  True\n",
      "Fetch: 36 :  True\n",
      "Step_Train: 36 :  True\n",
      "Fetch: 37 :  True\n",
      "Step_Train: 37 :  True\n",
      "Fetch: 38 :  True\n",
      "Step_Train: 38 :  True\n",
      "Fetch: 39 :  True\n",
      "Step_Train: 39 :  True\n"
     ]
    },
    {
     "name": "stderr",
     "output_type": "stream",
     "text": [
      "100%|██████████| 10/10 [00:08<00:00,  1.12it/s]"
     ]
    },
    {
     "name": "stdout",
     "output_type": "stream",
     "text": [
      "Fetch: 40 :  True\n",
      "Step_Train: 40 :  True\n",
      "Fetch: 1 :  True\n",
      "Step_Val: 1 :  True\n",
      "Fetch: 2 :  True\n",
      "Step_Val: 2 :  True\n",
      "Fetch: 3 :  True\n",
      "Step_Val: 3 :  True\n",
      "Fetch: 4 :  True\n",
      "Step_Val: 4 :  True\n",
      "Fetch: 5 :  True\n",
      "Step_Val: 5 :  True\n"
     ]
    },
    {
     "name": "stderr",
     "output_type": "stream",
     "text": [
      "\n"
     ]
    }
   ],
   "source": [
    "train_losses = []\n",
    "val_losses = []\n",
    "for epoch in tqdm.tqdm(range(epochs)):\n",
    "    # Training step\n",
    "    train_loss = cnn_train_step(model, train_dataloader, loss_fn, optimizer, device)\n",
    "    train_losses.append(train_loss)\n",
    "    \n",
    "    # Validation step\n",
    "    val_loss = cnn_val_step(model, val_dataloader, loss_fn, device)\n",
    "    val_losses.append(val_loss)\n",
    "\n",
    "    save_checkpoint(model, optimizer, epoch, f'model_checkpoints/nn_checkpoint_epoch_{epoch}.pth')"
   ]
  },
  {
   "cell_type": "code",
   "execution_count": 12,
   "metadata": {},
   "outputs": [],
   "source": [
    "#store train and validation losses\n",
    "torch.save(train_losses, 'tensor_collection\\\\cnn_train_losses.pt')\n",
    "torch.save(val_losses, 'tensor_collection\\\\cnn_val_losses.pt')\n",
    "\n",
    "\n"
   ]
  },
  {
   "cell_type": "markdown",
   "metadata": {},
   "source": [
    "### Model 3 - Training Multi-Modal Network ###"
   ]
  },
  {
   "cell_type": "markdown",
   "metadata": {},
   "source": [
    "#### Model 3 - Hyperparameters"
   ]
  },
  {
   "cell_type": "code",
   "execution_count": 13,
   "metadata": {},
   "outputs": [],
   "source": [
    "num_numerical_features = nn_x_train.shape[1] - 1 # -1 because we don't count the filename column\n",
    "\n",
    "model = MultiModalNetwork(num_numerical_features).to(device)  # Adjust for the number of numerical features\n",
    "optimizer = torch.optim.Adam(model.parameters(), lr=1e-4)\n",
    "epochs = 10 #after 10 epochs the model train and validation loss began to spike\n",
    "loss_fn = torch.nn.MSELoss()\n",
    "batch_sz = 200\n"
   ]
  },
  {
   "cell_type": "markdown",
   "metadata": {},
   "source": [
    "#### Instantiating Train and Val Data loaders"
   ]
  },
  {
   "cell_type": "code",
   "execution_count": 14,
   "metadata": {},
   "outputs": [],
   "source": [
    "train_dataloader = CustomDataloader(dataframe=nn_x_train, age=nn_y_train_tensor, batch_size=batch_sz, randomize=True)\n",
    "val_dataloader = CustomDataloader(dataframe=nn_x_val, age=nn_y_val_tensor, batch_size=batch_sz, randomize=False)\n"
   ]
  },
  {
   "cell_type": "markdown",
   "metadata": {},
   "source": [
    "#### Model 3 - Training Loop"
   ]
  },
  {
   "cell_type": "code",
   "execution_count": 15,
   "metadata": {},
   "outputs": [
    {
     "name": "stderr",
     "output_type": "stream",
     "text": [
      "  0%|          | 0/10 [00:00<?, ?it/s]"
     ]
    },
    {
     "name": "stdout",
     "output_type": "stream",
     "text": [
      "Fetch: 1 :  True\n",
      "Fetch: 2 :  True\n",
      "Fetch: 3 :  True\n",
      "Fetch: 4 :  True\n"
     ]
    },
    {
     "name": "stderr",
     "output_type": "stream",
     "text": [
      " 10%|█         | 1/10 [00:00<00:07,  1.16it/s]"
     ]
    },
    {
     "name": "stdout",
     "output_type": "stream",
     "text": [
      "Fetch: 1 :  True\n",
      "Fetch: 1 :  True\n",
      "Fetch: 2 :  True\n",
      "Fetch: 3 :  True\n"
     ]
    },
    {
     "name": "stderr",
     "output_type": "stream",
     "text": [
      " 20%|██        | 2/10 [00:01<00:06,  1.19it/s]"
     ]
    },
    {
     "name": "stdout",
     "output_type": "stream",
     "text": [
      "Fetch: 4 :  True\n",
      "Fetch: 1 :  True\n",
      "Fetch: 1 :  True\n",
      "Fetch: 2 :  True\n",
      "Fetch: 3 :  True\n",
      "Fetch: 4 :  True\n"
     ]
    },
    {
     "name": "stderr",
     "output_type": "stream",
     "text": [
      " 30%|███       | 3/10 [00:02<00:05,  1.18it/s]"
     ]
    },
    {
     "name": "stdout",
     "output_type": "stream",
     "text": [
      "Fetch: 1 :  True\n",
      "Fetch: 1 :  True\n",
      "Fetch: 2 :  True\n",
      "Fetch: 3 :  True\n"
     ]
    },
    {
     "name": "stderr",
     "output_type": "stream",
     "text": [
      " 40%|████      | 4/10 [00:03<00:05,  1.17it/s]"
     ]
    },
    {
     "name": "stdout",
     "output_type": "stream",
     "text": [
      "Fetch: 4 :  True\n",
      "Fetch: 1 :  True\n",
      "Fetch: 1 :  True\n",
      "Fetch: 2 :  True\n",
      "Fetch: 3 :  True\n",
      "Fetch: 4 :  True\n"
     ]
    },
    {
     "name": "stderr",
     "output_type": "stream",
     "text": [
      " 50%|█████     | 5/10 [00:04<00:04,  1.17it/s]"
     ]
    },
    {
     "name": "stdout",
     "output_type": "stream",
     "text": [
      "Fetch: 1 :  True\n",
      "Fetch: 1 :  True\n",
      "Fetch: 2 :  True\n",
      "Fetch: 3 :  True\n",
      "Fetch: 4 :  True\n"
     ]
    },
    {
     "name": "stderr",
     "output_type": "stream",
     "text": [
      " 60%|██████    | 6/10 [00:05<00:03,  1.15it/s]"
     ]
    },
    {
     "name": "stdout",
     "output_type": "stream",
     "text": [
      "Fetch: 1 :  True\n",
      "Fetch: 1 :  True\n",
      "Fetch: 2 :  True\n",
      "Fetch: 3 :  True\n",
      "Fetch: 4 :  True\n"
     ]
    },
    {
     "name": "stderr",
     "output_type": "stream",
     "text": [
      " 70%|███████   | 7/10 [00:06<00:02,  1.14it/s]"
     ]
    },
    {
     "name": "stdout",
     "output_type": "stream",
     "text": [
      "Fetch: 1 :  True\n",
      "Fetch: 1 :  True\n",
      "Fetch: 2 :  True\n",
      "Fetch: 3 :  True\n"
     ]
    },
    {
     "name": "stderr",
     "output_type": "stream",
     "text": [
      " 80%|████████  | 8/10 [00:06<00:01,  1.15it/s]"
     ]
    },
    {
     "name": "stdout",
     "output_type": "stream",
     "text": [
      "Fetch: 4 :  True\n",
      "Fetch: 1 :  True\n",
      "Fetch: 1 :  True\n",
      "Fetch: 2 :  True\n",
      "Fetch: 3 :  True\n"
     ]
    },
    {
     "name": "stderr",
     "output_type": "stream",
     "text": [
      " 90%|█████████ | 9/10 [00:07<00:00,  1.15it/s]"
     ]
    },
    {
     "name": "stdout",
     "output_type": "stream",
     "text": [
      "Fetch: 4 :  True\n",
      "Fetch: 1 :  True\n",
      "Fetch: 1 :  True\n",
      "Fetch: 2 :  True\n",
      "Fetch: 3 :  True\n",
      "Fetch: 4 :  True\n"
     ]
    },
    {
     "name": "stderr",
     "output_type": "stream",
     "text": [
      "100%|██████████| 10/10 [00:08<00:00,  1.16it/s]"
     ]
    },
    {
     "name": "stdout",
     "output_type": "stream",
     "text": [
      "Fetch: 1 :  True\n"
     ]
    },
    {
     "name": "stderr",
     "output_type": "stream",
     "text": [
      "\n"
     ]
    }
   ],
   "source": [
    "train_losses = []\n",
    "val_losses = []\n",
    "for epoch in tqdm.tqdm(range(epochs)):\n",
    "    # Training step\n",
    "    train_loss = mmn_train_step(model, train_dataloader, loss_fn, optimizer, device)\n",
    "    train_losses.append(train_loss)\n",
    "\n",
    "    # Validation step\n",
    "    val_loss = mmn_val_step(model, val_dataloader, loss_fn, device)\n",
    "    val_losses.append(val_loss)\n",
    "\n",
    "    checkpoint_filename = f'model_checkpoints/mmn_checkpoint_epoch_{epoch}.pth'\n",
    "    save_checkpoint(model, optimizer, epoch, checkpoint_filename)"
   ]
  },
  {
   "cell_type": "code",
   "execution_count": 16,
   "metadata": {},
   "outputs": [],
   "source": [
    "#store train and validation losses\n",
    "torch.save(train_losses, 'tensor_collection\\\\mmn_train_losses.pt')\n",
    "torch.save(val_losses, 'tensor_collection\\\\mmn_val_losses.pt')\n",
    "#store epochs for plotting\n",
    "torch.save(epochs, 'tensor_collection\\\\mmn_epochs.pt')\n",
    "\n"
   ]
  }
 ],
 "metadata": {
  "kernelspec": {
   "display_name": "venv",
   "language": "python",
   "name": "python3"
  },
  "language_info": {
   "codemirror_mode": {
    "name": "ipython",
    "version": 3
   },
   "file_extension": ".py",
   "mimetype": "text/x-python",
   "name": "python",
   "nbconvert_exporter": "python",
   "pygments_lexer": "ipython3",
   "version": "3.11.5"
  }
 },
 "nbformat": 4,
 "nbformat_minor": 2
}
