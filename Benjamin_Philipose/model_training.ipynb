{
 "cells": [
  {
   "cell_type": "code",
   "execution_count": 19,
   "metadata": {},
   "outputs": [],
   "source": [
    "import numpy as np\n",
    "import pickle\n",
    "import pandas as pd\n",
    "import numpy as np\n",
    "import torch\n",
    "import torch.nn as nn"
   ]
  },
  {
   "cell_type": "markdown",
   "metadata": {},
   "source": [
    "### Model 1 - Linear Regression ###"
   ]
  },
  {
   "cell_type": "code",
   "execution_count": 20,
   "metadata": {},
   "outputs": [],
   "source": [
    "#load train test and validation data from tensor_collection\n",
    "cm_x_train = torch.load('tensor_collection\\\\cm_x_train.pt')\n",
    "cm_y_train = torch.load('tensor_collection\\\\cm_y_train.pt')\n",
    "cm_x_test = torch.load('tensor_collection\\\\cm_x_test.pt')\n",
    "cm_y_test = torch.load('tensor_collection\\\\cm_y_test.pt')\n",
    "cm_x_val = torch.load('tensor_collection\\\\cm_x_val.pt')\n",
    "cm_y_val = torch.load('tensor_collection\\\\cm_y_val.pt')\n",
    "\n"
   ]
  },
  {
   "cell_type": "code",
   "execution_count": 21,
   "metadata": {},
   "outputs": [],
   "source": [
    "#Loss function\n",
    "def mean_squared_error(x : np.ndarray, y : np.ndarray, theta : np.ndarray) -> np.ndarray:\n",
    "    yhat = x @ theta \n",
    "    error = yhat - y \n",
    "    loss = (1 / len(y)) * np.sum(error ** 2) \n",
    "    return loss\n",
    "\n",
    "#Gradient descent\n",
    "def calculate_gradient_and_update(x: np.ndarray, y: np.ndarray, theta: np.ndarray, alpha: float) -> tuple([float, np.ndarray]):\n",
    "    gradient = (1 / len(y)) * x.T @ ((x @ theta) - y) \n",
    "    theta_new = theta - (alpha * gradient) \n",
    "    loss = mean_squared_error(x, y, theta_new)\n",
    "    return loss, theta_new\n"
   ]
  },
  {
   "cell_type": "code",
   "execution_count": 22,
   "metadata": {},
   "outputs": [
    {
     "name": "stdout",
     "output_type": "stream",
     "text": [
      "Final training loss: 66.8928832558388\n",
      "Final validation loss: 63.11712690253442\n"
     ]
    }
   ],
   "source": [
    "num_features = cm_x_train.shape[1]\n",
    "\n",
    "train_loss_history = []\n",
    "val_loss_history = []\n",
    "num_epochs = 10000\n",
    "alpha = 0.1\n",
    "\n",
    "# Initialize theta to random values between -2 and 2\n",
    "theta = np.random.uniform(-2, 2, (num_features))\n",
    "\n",
    "# Training Loop\n",
    "for t in range(num_epochs):\n",
    "    train_loss, theta = calculate_gradient_and_update(cm_x_train, cm_y_train, theta, alpha)\n",
    "    train_loss_history.append(train_loss)\n",
    "\n",
    "    # Validation step\n",
    "    val_loss, _ = calculate_gradient_and_update(cm_x_val, cm_y_val, theta, 0)  # alpha=0 to prevent updates\n",
    "    val_loss_history.append(val_loss)\n",
    "\n",
    "\n",
    "# Plot loss history\n",
    "print('Final training loss:', train_loss)\n",
    "print('Final validation loss:', val_loss)\n"
   ]
  },
  {
   "cell_type": "code",
   "execution_count": 23,
   "metadata": {},
   "outputs": [],
   "source": [
    "#save theta and loss history for analysis notebook\n",
    "pickle.dump(theta, open('tensor_collection\\\\regression_theta.pkl', 'wb'))\n",
    "pickle.dump(train_loss, open('tensor_collection\\\\regression_train_loss.pkl', 'wb'))\n",
    "pickle.dump(val_loss, open('tensor_collection\\\\regression_val_loss.pkl', 'wb'))"
   ]
  },
  {
   "cell_type": "markdown",
   "metadata": {},
   "source": [
    "### Model 2 - Training CNN ###"
   ]
  },
  {
   "cell_type": "code",
   "execution_count": 24,
   "metadata": {},
   "outputs": [
    {
     "name": "stdout",
     "output_type": "stream",
     "text": [
      "Is CUDA available?  True\n"
     ]
    }
   ],
   "source": [
    "cuda_available = torch.cuda.is_available()\n",
    "print(\"Is CUDA available? \", cuda_available)"
   ]
  },
  {
   "cell_type": "code",
   "execution_count": 25,
   "metadata": {},
   "outputs": [
    {
     "name": "stdout",
     "output_type": "stream",
     "text": [
      "<class 'pandas.core.frame.DataFrame'>\n",
      "<class 'numpy.ndarray'>\n"
     ]
    }
   ],
   "source": [
    "#load torch tensors\n",
    "#load from csv\n",
    "directory = 'tensor_collection\\\\'\n",
    "\n",
    "#load train and val csv files\n",
    "cnn_x_train = pd.read_csv(directory + 'cnn_x_train.csv')\n",
    "cnn_x_val = pd.read_csv(directory + 'cnn_x_val.csv')\n",
    "\n",
    "\n",
    "cnn_y_train_tensor = torch.load(directory + 'cnn_y_train.pt')\n",
    "cnn_y_val_tensor = torch.load(directory + 'cnn_y_val.pt')\n",
    "\n",
    "#print types\n",
    "print(type(cnn_x_train))\n",
    "print(type(cnn_y_train_tensor))\n",
    "\n"
   ]
  },
  {
   "cell_type": "code",
   "execution_count": 26,
   "metadata": {},
   "outputs": [
    {
     "name": "stdout",
     "output_type": "stream",
     "text": [
      "Using GPU: NVIDIA GeForce GTX 1660 Ti\n"
     ]
    }
   ],
   "source": [
    "if (torch.cuda.is_available()):\n",
    "    device = torch.device(\"cuda:0\")\n",
    "    print('Using GPU:', torch.cuda.get_device_name(0))\n",
    "else:\n",
    "    device = torch.device(\"cpu\")\n",
    "    print('GPU not available, using CPU')\n",
    "    "
   ]
  },
  {
   "cell_type": "code",
   "execution_count": 27,
   "metadata": {},
   "outputs": [],
   "source": [
    "from dataloader import CustomDataloader\n",
    "from networks import CNNRegression\n",
    "import tqdm"
   ]
  },
  {
   "cell_type": "code",
   "execution_count": 28,
   "metadata": {},
   "outputs": [
    {
     "name": "stderr",
     "output_type": "stream",
     "text": [
      "  0%|          | 0/50 [00:00<?, ?it/s]"
     ]
    },
    {
     "name": "stderr",
     "output_type": "stream",
     "text": [
      "100%|██████████| 50/50 [08:34<00:00, 10.29s/it]\n"
     ]
    }
   ],
   "source": [
    "\n",
    "\n",
    "train_dataloader = CustomDataloader(dataframe=cnn_x_train, age=cnn_y_train_tensor, batch_size=50, randomize=True)\n",
    "val_dataloader = CustomDataloader(dataframe=cnn_x_val, age=cnn_y_val_tensor, batch_size=50, randomize=False)\n",
    "\n",
    "model = CNNRegression().to(device)\n",
    "\n",
    "# instantiate your optimizer\n",
    "optimizer = torch.optim.Adam(model.parameters(), lr=1e-4)\n",
    "\n",
    "# log your losses\n",
    "train_losses = []\n",
    "val_losses = []\n",
    "\n",
    "# define how many epochs to train on\n",
    "epochs = 50\n",
    "\n",
    "def save_checkpoint(model, optimizer, epoch, filename):\n",
    "    checkpoint = {\n",
    "        'epoch': epoch,\n",
    "        'model_state_dict': model.state_dict(),\n",
    "        'optimizer_state_dict': optimizer.state_dict()\n",
    "    }\n",
    "    torch.save(checkpoint, filename)\n",
    "\n",
    "# define your loss function for multiclass classification task\n",
    "# BCE does binary cross entropy automatically for each class\n",
    "loss_fn = torch.nn.MSELoss()\n",
    "for epoch in tqdm.tqdm(range(epochs)):\n",
    "    model.train()\n",
    "    train_losses_epoch = []\n",
    "    for _ in range(train_dataloader.num_batches_per_epoch):\n",
    "        optimizer.zero_grad()\n",
    "        train_batch = train_dataloader.fetch_batch()\n",
    "        x_batch = train_batch['img_batch'].to(device)\n",
    "        y_batch = train_batch['age_batch'].to(device)\n",
    "        yhat = model(x_batch)  # Use only image batch\n",
    "        yhat = torch.squeeze(yhat)\n",
    "        train_loss = torch.mean(loss_fn(yhat, y_batch))  # Adjusted to label_batch\n",
    "\n",
    "        # Training data backward pass\n",
    "        train_loss.backward()\n",
    "        optimizer.step()\n",
    "        train_losses_epoch.append(train_loss.detach().cpu().numpy())\n",
    "    \n",
    "    train_losses.append(np.mean(train_losses_epoch))\n",
    "    \n",
    "    model.eval()\n",
    "    val_losses_epoch = []\n",
    "    with torch.no_grad():\n",
    "        for _ in range(val_dataloader.num_batches_per_epoch):\n",
    "            val_batch = val_dataloader.fetch_batch()\n",
    "            x_batch = val_batch['img_batch'].to(device)\n",
    "            y_batch = val_batch['age_batch'].to(device)\n",
    "\n",
    "            yhat = model(x_batch)  # Use only image batch\n",
    "            yhat = torch.squeeze(yhat)\n",
    "            val_loss = loss_fn(yhat, y_batch)  # Corrected loss calculation\n",
    "            val_losses_epoch.append(val_loss.item())  # Use .item() for consistency\n",
    "\n",
    "\n",
    "    val_losses.append(np.mean(val_losses_epoch))\n",
    "    \n",
    "    # Save checkpoint after each epoch\n",
    "    checkpoint_filename = f'model_checkpoints/cnn_checkpoint_epoch_{epoch}.pth'\n",
    "    save_checkpoint(model, optimizer, epoch, checkpoint_filename)"
   ]
  },
  {
   "cell_type": "code",
   "execution_count": 29,
   "metadata": {},
   "outputs": [],
   "source": [
    "#store train and validation losses\n",
    "torch.save(train_losses, 'tensor_collection\\\\cnn_train_losses.pt')\n",
    "torch.save(val_losses, 'tensor_collection\\\\cnn_val_losses.pt')\n",
    "#store epochs for plotting\n",
    "torch.save(epochs, 'tensor_collection\\\\cnn_epochs.pt')\n",
    "\n"
   ]
  },
  {
   "cell_type": "code",
   "execution_count": 38,
   "metadata": {},
   "outputs": [
    {
     "name": "stderr",
     "output_type": "stream",
     "text": [
      "  0%|          | 0/10 [00:00<?, ?it/s]"
     ]
    },
    {
     "name": "stderr",
     "output_type": "stream",
     "text": [
      "100%|██████████| 10/10 [01:44<00:00, 10.44s/it]\n"
     ]
    }
   ],
   "source": [
    "from networks import MultiModalNetwork  # Use the multimodal network class\n",
    "\n",
    "#get number of numerical features\n",
    "num_numerical_features = cnn_x_train.shape[1] - 1\n",
    "\n",
    "\n",
    "train_dataloader = CustomDataloader(dataframe=cnn_x_train, age=cnn_y_train_tensor, batch_size=50, randomize=True)\n",
    "val_dataloader = CustomDataloader(dataframe=cnn_x_val, age=cnn_y_val_tensor, batch_size=50, randomize=False)\n",
    "\n",
    "model = MultiModalNetwork(num_numerical_features).to(device)  # Adjust for the number of numerical features\n",
    "\n",
    "optimizer = torch.optim.Adam(model.parameters(), lr=1e-4)\n",
    "train_losses = []\n",
    "val_losses = []\n",
    "epochs = 10 #after 10 epochs the model train and validation loss began to spike\n",
    "loss_fn = torch.nn.MSELoss()\n",
    "\n",
    "def save_checkpoint(model, optimizer, epoch, filename):\n",
    "    checkpoint = {\n",
    "        'epoch': epoch,\n",
    "        'model_state_dict': model.state_dict(),\n",
    "        'optimizer_state_dict': optimizer.state_dict()\n",
    "    }\n",
    "    torch.save(checkpoint, filename)\n",
    "\n",
    "for epoch in tqdm.tqdm(range(epochs)):\n",
    "    model.train()  # Set the model to training mode\n",
    "    train_losses_epoch = []\n",
    "    for _ in range(train_dataloader.num_batches_per_epoch):\n",
    "        optimizer.zero_grad()\n",
    "        train_batch = train_dataloader.fetch_batch()\n",
    "        x_batch = train_batch['img_batch'].to(device)\n",
    "        num_features = train_batch['feat_batch'].to(device)\n",
    "        y_batch = train_batch['age_batch'].to(device)\n",
    "        \n",
    "        yhat = model(x_batch, num_features)\n",
    "        yhat = torch.squeeze(yhat)\n",
    "        train_loss = loss_fn(yhat, y_batch)\n",
    "        train_loss.backward()\n",
    "        optimizer.step()\n",
    "        train_losses_epoch.append(train_loss.item())\n",
    "\n",
    "    train_losses.append(np.mean(train_losses_epoch))  # Average loss for this epoch\n",
    "    \n",
    "    model.eval()  # Set the model to evaluation mode\n",
    "    val_losses_epoch = []\n",
    "    with torch.no_grad():\n",
    "        for _ in range(val_dataloader.num_batches_per_epoch):\n",
    "            val_batch = val_dataloader.fetch_batch()\n",
    "            x_batch = val_batch['img_batch'].to(device)\n",
    "            num_features = val_batch['feat_batch'].to(device)\n",
    "            y_batch = val_batch['age_batch'].to(device)\n",
    "            \n",
    "            yhat = model(x_batch, num_features)\n",
    "            yhat = torch.squeeze(yhat)\n",
    "            val_loss = loss_fn(yhat, y_batch)\n",
    "            val_losses_epoch.append(val_loss.item())\n",
    "\n",
    "    val_losses.append(np.mean(val_losses_epoch))  # Average validation loss for this epoch\n",
    "    \n",
    "    checkpoint_filename = f'model_checkpoints/mmn_checkpoint_epoch_{epoch}.pth'\n",
    "    save_checkpoint(model, optimizer, epoch, checkpoint_filename)\n"
   ]
  },
  {
   "cell_type": "code",
   "execution_count": 39,
   "metadata": {},
   "outputs": [],
   "source": [
    "#store train and validation losses\n",
    "torch.save(train_losses, 'tensor_collection\\\\mmn_train_losses.pt')\n",
    "torch.save(val_losses, 'tensor_collection\\\\mmn_val_losses.pt')\n",
    "#store epochs for plotting\n",
    "torch.save(epochs, 'tensor_collection\\\\mmn_epochs.pt')\n",
    "\n"
   ]
  }
 ],
 "metadata": {
  "kernelspec": {
   "display_name": "venv",
   "language": "python",
   "name": "python3"
  },
  "language_info": {
   "codemirror_mode": {
    "name": "ipython",
    "version": 3
   },
   "file_extension": ".py",
   "mimetype": "text/x-python",
   "name": "python",
   "nbconvert_exporter": "python",
   "pygments_lexer": "ipython3",
   "version": "3.11.5"
  }
 },
 "nbformat": 4,
 "nbformat_minor": 2
}
