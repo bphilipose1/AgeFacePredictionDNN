{
 "cells": [
  {
   "cell_type": "code",
   "execution_count": 1,
   "metadata": {},
   "outputs": [],
   "source": [
    "import numpy as np\n",
    "import pickle\n",
    "import pandas as pd\n",
    "import numpy as np\n",
    "import torch\n",
    "import torch.nn as nn"
   ]
  },
  {
   "cell_type": "markdown",
   "metadata": {},
   "source": [
    "### Model 1 - Linear Regression ###"
   ]
  },
  {
   "cell_type": "code",
   "execution_count": 2,
   "metadata": {},
   "outputs": [],
   "source": [
    "#load train test and validation data from tensor_collection\n",
    "cm_x_train = torch.load('tensor_collection\\\\cm_x_train.pt')\n",
    "cm_y_train = torch.load('tensor_collection\\\\cm_y_train.pt')\n",
    "cm_x_test = torch.load('tensor_collection\\\\cm_x_test.pt')\n",
    "cm_y_test = torch.load('tensor_collection\\\\cm_y_test.pt')\n",
    "cm_x_val = torch.load('tensor_collection\\\\cm_x_val.pt')\n",
    "cm_y_val = torch.load('tensor_collection\\\\cm_y_val.pt')\n",
    "\n"
   ]
  },
  {
   "cell_type": "code",
   "execution_count": 3,
   "metadata": {},
   "outputs": [],
   "source": [
    "#Loss function\n",
    "def mean_squared_error(x : np.ndarray, y : np.ndarray, theta : np.ndarray) -> np.ndarray:\n",
    "    yhat = x @ theta \n",
    "    error = yhat - y \n",
    "    loss = (1 / len(y)) * np.sum(error ** 2) \n",
    "    return loss\n",
    "\n",
    "#Gradient descent\n",
    "def calculate_gradient_and_update(x: np.ndarray, y: np.ndarray, theta: np.ndarray, alpha: float) -> tuple([float, np.ndarray]):\n",
    "    gradient = (1 / len(y)) * x.T @ ((x @ theta) - y) \n",
    "    theta_new = theta - (alpha * gradient) \n",
    "    loss = mean_squared_error(x, y, theta_new)\n",
    "    return loss, theta_new\n"
   ]
  },
  {
   "cell_type": "code",
   "execution_count": 4,
   "metadata": {},
   "outputs": [
    {
     "name": "stdout",
     "output_type": "stream",
     "text": [
      "Final training loss: 66.8928832558388\n",
      "Final validation loss: 63.11712690253442\n"
     ]
    }
   ],
   "source": [
    "num_features = cm_x_train.shape[1]\n",
    "\n",
    "train_loss_history = []\n",
    "val_loss_history = []\n",
    "num_epochs = 10000\n",
    "alpha = 0.1\n",
    "\n",
    "# Initialize theta to random values between -2 and 2\n",
    "theta = np.random.uniform(-2, 2, (num_features))\n",
    "\n",
    "# Training Loop\n",
    "for t in range(num_epochs):\n",
    "    train_loss, theta = calculate_gradient_and_update(cm_x_train, cm_y_train, theta, alpha)\n",
    "    train_loss_history.append(train_loss)\n",
    "\n",
    "    # Validation step\n",
    "    val_loss, _ = calculate_gradient_and_update(cm_x_val, cm_y_val, theta, 0)  # alpha=0 to prevent updates\n",
    "    val_loss_history.append(val_loss)\n",
    "\n",
    "\n",
    "# Plot loss history\n",
    "print('Final training loss:', train_loss)\n",
    "print('Final validation loss:', val_loss)\n"
   ]
  },
  {
   "cell_type": "code",
   "execution_count": 5,
   "metadata": {},
   "outputs": [],
   "source": [
    "#save theta and loss history for analysis notebook\n",
    "pickle.dump(theta, open('tensor_collection\\\\regression_theta.pkl', 'wb'))\n",
    "pickle.dump(train_loss, open('tensor_collection\\\\regression_train_loss.pkl', 'wb'))\n",
    "pickle.dump(val_loss, open('tensor_collection\\\\regression_val_loss.pkl', 'wb'))"
   ]
  },
  {
   "cell_type": "markdown",
   "metadata": {},
   "source": [
    "### Model 2 - Training CNN ###"
   ]
  },
  {
   "cell_type": "code",
   "execution_count": 6,
   "metadata": {},
   "outputs": [
    {
     "name": "stdout",
     "output_type": "stream",
     "text": [
      "Is CUDA available?  True\n"
     ]
    }
   ],
   "source": [
    "cuda_available = torch.cuda.is_available()\n",
    "print(\"Is CUDA available? \", cuda_available)"
   ]
  },
  {
   "cell_type": "code",
   "execution_count": 7,
   "metadata": {},
   "outputs": [
    {
     "name": "stdout",
     "output_type": "stream",
     "text": [
      "<class 'pandas.core.frame.DataFrame'>\n",
      "<class 'numpy.ndarray'>\n"
     ]
    }
   ],
   "source": [
    "#load torch tensors\n",
    "#load from csv\n",
    "directory = 'tensor_collection\\\\'\n",
    "\n",
    "#load train and val csv files\n",
    "cnn_x_train = pd.read_csv(directory + 'cnn_x_train.csv')\n",
    "cnn_x_val = pd.read_csv(directory + 'cnn_x_val.csv')\n",
    "\n",
    "\n",
    "cnn_y_train_tensor = torch.load(directory + 'cnn_y_train.pt')\n",
    "cnn_y_val_tensor = torch.load(directory + 'cnn_y_val.pt')\n",
    "\n",
    "#print types\n",
    "print(type(cnn_x_train))\n",
    "print(type(cnn_y_train_tensor))\n",
    "\n"
   ]
  },
  {
   "cell_type": "code",
   "execution_count": 8,
   "metadata": {},
   "outputs": [
    {
     "name": "stdout",
     "output_type": "stream",
     "text": [
      "Using GPU: NVIDIA GeForce GTX 1660 Ti\n"
     ]
    }
   ],
   "source": [
    "if (torch.cuda.is_available()):\n",
    "    device = torch.device(\"cuda:0\")\n",
    "    print('Using GPU:', torch.cuda.get_device_name(0))\n",
    "else:\n",
    "    device = torch.device(\"cpu\")\n",
    "    print('GPU not available, using CPU')\n",
    "    "
   ]
  },
  {
   "cell_type": "code",
   "execution_count": 9,
   "metadata": {},
   "outputs": [
    {
     "name": "stderr",
     "output_type": "stream",
     "text": [
      "  0%|          | 0/50 [00:00<?, ?it/s]\n"
     ]
    },
    {
     "ename": "TypeError",
     "evalue": "'NoneType' object is not an iterator",
     "output_type": "error",
     "traceback": [
      "\u001b[1;31m---------------------------------------------------------------------------\u001b[0m",
      "\u001b[1;31mTypeError\u001b[0m                                 Traceback (most recent call last)",
      "\u001b[1;32mc:\\Users\\phili\\Documents\\MLFinal\\MLFinal\\Benjamin_Philipose\\model_training.ipynb Cell 11\u001b[0m line \u001b[0;36m3\n\u001b[0;32m     <a href='vscode-notebook-cell:/c%3A/Users/phili/Documents/MLFinal/MLFinal/Benjamin_Philipose/model_training.ipynb#X12sZmlsZQ%3D%3D?line=32'>33</a>\u001b[0m \u001b[39mfor\u001b[39;00m _ \u001b[39min\u001b[39;00m \u001b[39mrange\u001b[39m(train_dataloader\u001b[39m.\u001b[39mnum_batches_per_epoch):\n\u001b[0;32m     <a href='vscode-notebook-cell:/c%3A/Users/phili/Documents/MLFinal/MLFinal/Benjamin_Philipose/model_training.ipynb#X12sZmlsZQ%3D%3D?line=33'>34</a>\u001b[0m     optimizer\u001b[39m.\u001b[39mzero_grad()\n\u001b[1;32m---> <a href='vscode-notebook-cell:/c%3A/Users/phili/Documents/MLFinal/MLFinal/Benjamin_Philipose/model_training.ipynb#X12sZmlsZQ%3D%3D?line=34'>35</a>\u001b[0m     train_batch \u001b[39m=\u001b[39m train_dataloader\u001b[39m.\u001b[39;49mfetch_batch()\n\u001b[0;32m     <a href='vscode-notebook-cell:/c%3A/Users/phili/Documents/MLFinal/MLFinal/Benjamin_Philipose/model_training.ipynb#X12sZmlsZQ%3D%3D?line=35'>36</a>\u001b[0m     x_batch \u001b[39m=\u001b[39m train_batch[\u001b[39m'\u001b[39m\u001b[39mimg_batch\u001b[39m\u001b[39m'\u001b[39m]\u001b[39m.\u001b[39mto(device)\n\u001b[0;32m     <a href='vscode-notebook-cell:/c%3A/Users/phili/Documents/MLFinal/MLFinal/Benjamin_Philipose/model_training.ipynb#X12sZmlsZQ%3D%3D?line=36'>37</a>\u001b[0m     y_batch \u001b[39m=\u001b[39m train_batch[\u001b[39m'\u001b[39m\u001b[39mage_batch\u001b[39m\u001b[39m'\u001b[39m]\u001b[39m.\u001b[39mto(device)\n",
      "File \u001b[1;32mc:\\Users\\phili\\Documents\\MLFinal\\MLFinal\\Benjamin_Philipose\\dataloader.py:48\u001b[0m, in \u001b[0;36mCustomDataloader.fetch_batch\u001b[1;34m(self)\u001b[0m\n\u001b[0;32m     47\u001b[0m \u001b[39mdef\u001b[39;00m \u001b[39mfetch_batch\u001b[39m(\u001b[39mself\u001b[39m):\n\u001b[1;32m---> 48\u001b[0m     batch_indices \u001b[39m=\u001b[39m \u001b[39mnext\u001b[39;49m(\u001b[39mself\u001b[39;49m\u001b[39m.\u001b[39;49miter, \u001b[39mNone\u001b[39;49;00m)\n\u001b[0;32m     49\u001b[0m     \u001b[39mif\u001b[39;00m batch_indices \u001b[39mis\u001b[39;00m \u001b[39mNone\u001b[39;00m:\n\u001b[0;32m     50\u001b[0m         \u001b[39mreturn\u001b[39;00m \u001b[39mNone\u001b[39;00m\n",
      "\u001b[1;31mTypeError\u001b[0m: 'NoneType' object is not an iterator"
     ]
    }
   ],
   "source": [
    "from dataloader import CustomDataloader\n",
    "from networks import CNNRegression\n",
    "import tqdm\n",
    "\n",
    "train_dataloader = CustomDataloader(dataframe=cnn_x_train, age=cnn_y_train_tensor, batch_size=50, randomize=True)\n",
    "val_dataloader = CustomDataloader(dataframe=cnn_x_val, age=cnn_y_val_tensor, batch_size=50, randomize=False)\n",
    "\n",
    "model = CNNRegression().to(device)\n",
    "\n",
    "# instantiate your optimizer\n",
    "optimizer = torch.optim.Adam(model.parameters(), lr=1e-4)#1e-5 is temp best\n",
    "\n",
    "# log your losses\n",
    "train_losses = []\n",
    "val_losses = []\n",
    "\n",
    "# define how many epochs to train on\n",
    "epochs = 50\n",
    "\n",
    "def save_checkpoint(model, optimizer, epoch, filename):\n",
    "    checkpoint = {\n",
    "        'epoch': epoch,\n",
    "        'model_state_dict': model.state_dict(),\n",
    "        'optimizer_state_dict': optimizer.state_dict()\n",
    "    }\n",
    "    torch.save(checkpoint, filename)\n",
    "\n",
    "# define your loss function for multiclass classification task\n",
    "# BCE does binary cross entropy automatically for each class\n",
    "loss_fn = torch.nn.MSELoss()\n",
    "for _ in tqdm.tqdm(range(epochs)):\n",
    "    losses = []\n",
    "    for _ in range(train_dataloader.num_batches_per_epoch):\n",
    "        optimizer.zero_grad()\n",
    "        train_batch = train_dataloader.fetch_batch()\n",
    "        x_batch = train_batch['img_batch'].to(device)\n",
    "        y_batch = train_batch['age_batch'].to(device)\n",
    "        yhat = model(x_batch)  # Use only image batch\n",
    "        yhat = torch.squeeze(yhat)\n",
    "        train_loss = torch.mean(loss_fn(yhat, y_batch))  # Adjusted to label_batch\n",
    "\n",
    "        # Training data backward pass\n",
    "        train_loss.backward()\n",
    "        optimizer.step()\n",
    "        losses.append(train_loss.detach().cpu().numpy())\n",
    "    \n",
    "    train_losses.extend(losses)\n",
    "    checkpoint_filename = f'model_checkpoints\\\\model_checkpoint_epoch_{epochs}.pth'\n",
    "    save_checkpoint(model, optimizer, epochs, checkpoint_filename)\n",
    "    train_losses.extend(losses)\n",
    "    \n",
    "    losses = []\n",
    "    for _ in range(val_dataloader.num_batches_per_epoch):\n",
    "        # Validation data forward pass only\n",
    "        val_batch = val_dataloader.fetch_batch()\n",
    "        x_batch = val_batch['img_batch'].to(device)\n",
    "        y_batch = val_batch['age_batch'].to(device)\n",
    "        yhat = model(x_batch)  # Use only image batch\n",
    "        yhat = torch.squeeze(yhat)\n",
    "        val_loss = torch.mean(loss_fn(yhat, y_batch), axis=0)  # Adjusted to label_batch\n",
    "        losses.append(val_loss.detach().cpu().numpy())\n",
    "\n",
    "    val_losses.append(np.mean(losses))\n"
   ]
  },
  {
   "cell_type": "code",
   "execution_count": null,
   "metadata": {},
   "outputs": [],
   "source": [
    "#store train and validation losses\n",
    "torch.save(train_losses, 'tensor_collection\\\\cnn_train_losses.pt')\n",
    "torch.save(val_losses, 'tensor_collection\\\\cnn_val_losses.pt')\n",
    "#store epochs for plotting\n",
    "torch.save(epochs, 'tensor_collection\\\\cnn_epochs.pt')\n",
    "\n"
   ]
  },
  {
   "cell_type": "markdown",
   "metadata": {},
   "source": [
    "### Model 3 - Multi Modal ###"
   ]
  },
  {
   "cell_type": "code",
   "execution_count": null,
   "metadata": {},
   "outputs": [
    {
     "ename": "NameError",
     "evalue": "name 'device' is not defined",
     "output_type": "error",
     "traceback": [
      "\u001b[1;31m---------------------------------------------------------------------------\u001b[0m",
      "\u001b[1;31mNameError\u001b[0m                                 Traceback (most recent call last)",
      "\u001b[1;32mc:\\Users\\phili\\Documents\\MLFinal\\MLFinal\\Benjamin_Philipose\\model_training.ipynb Cell 14\u001b[0m line \u001b[0;36m5\n\u001b[0;32m      <a href='vscode-notebook-cell:/c%3A/Users/phili/Documents/MLFinal/MLFinal/Benjamin_Philipose/model_training.ipynb#X16sZmlsZQ%3D%3D?line=1'>2</a>\u001b[0m \u001b[39mfrom\u001b[39;00m \u001b[39mnetworks\u001b[39;00m \u001b[39mimport\u001b[39;00m CNNRegression\n\u001b[0;32m      <a href='vscode-notebook-cell:/c%3A/Users/phili/Documents/MLFinal/MLFinal/Benjamin_Philipose/model_training.ipynb#X16sZmlsZQ%3D%3D?line=2'>3</a>\u001b[0m \u001b[39mfrom\u001b[39;00m \u001b[39mnetworks\u001b[39;00m \u001b[39mimport\u001b[39;00m LinearRegression\n\u001b[1;32m----> <a href='vscode-notebook-cell:/c%3A/Users/phili/Documents/MLFinal/MLFinal/Benjamin_Philipose/model_training.ipynb#X16sZmlsZQ%3D%3D?line=4'>5</a>\u001b[0m cnn_model \u001b[39m=\u001b[39m CNNRegression()\u001b[39m.\u001b[39mto(device)\n\u001b[0;32m      <a href='vscode-notebook-cell:/c%3A/Users/phili/Documents/MLFinal/MLFinal/Benjamin_Philipose/model_training.ipynb#X16sZmlsZQ%3D%3D?line=5'>6</a>\u001b[0m num_numerical_features \u001b[39m=\u001b[39m \u001b[39m13\u001b[39m\n\u001b[0;32m      <a href='vscode-notebook-cell:/c%3A/Users/phili/Documents/MLFinal/MLFinal/Benjamin_Philipose/model_training.ipynb#X16sZmlsZQ%3D%3D?line=6'>7</a>\u001b[0m model \u001b[39m=\u001b[39m MultimodalNetwork(cnn_model, num_numerical_features)\u001b[39m.\u001b[39mto(device)\n",
      "\u001b[1;31mNameError\u001b[0m: name 'device' is not defined"
     ]
    }
   ],
   "source": [
    "'''from networks import MultimodalNetwork\n",
    "from networks import CNNRegression\n",
    "from networks import LinearRegression\n",
    "\n",
    "cnn_model = CNNRegression().to(device)\n",
    "num_numerical_features = 13\n",
    "model = MultimodalNetwork(cnn_model, num_numerical_features).to(device)\n",
    "\n",
    "train_dataloader = CustomDataloader(dataframe=cnn_x_train, age=cnn_y_train_tensor, batch_size=50, randomize=True)\n",
    "val_dataloader = CustomDataloader(dataframe=cnn_x_val, age=cnn_y_val_tensor, batch_size=50, randomize=False)\n",
    "\n",
    "\n",
    "# Define the loss function and optimizer\n",
    "loss_fn = nn.MSELoss()\n",
    "optimizer = torch.optim.Adam(model.parameters(), lr=0.001)\n",
    "\n",
    "# Training loop\n",
    "for _ in tqdm.tqdm(range(epochs)):\n",
    "    losses = []\n",
    "    for _ in range(train_dataloader.num_batches_per_epoch):\n",
    "        optimizer.zero_grad()\n",
    "        train_batch = train_dataloader.fetch_batch()\n",
    "        images = train_batch['img_batch'].to(device)\n",
    "        numerical_features = train_batch['feat_batch'].to(device)\n",
    "        ages = train_batch['age_batch'].to(device)\n",
    "        yhat = model(images, numerical_features)  # Use only image batch\n",
    "        yhat = torch.squeeze(yhat)\n",
    "        train_loss = torch.mean(loss_fn(yhat, ages))  # Adjusted to label_batch\n",
    "\n",
    "        # Training data backward pass\n",
    "        train_loss.backward()\n",
    "        optimizer.step()\n",
    "        losses.append(train_loss.detach().cpu().numpy())\n",
    "    \n",
    "    train_losses.extend(losses)\n",
    "    checkpoint_filename = f'model_checkpoints\\\\model_checkpoint_epoch_{epochs}.pth'\n",
    "    save_checkpoint(model, optimizer, epochs, checkpoint_filename)\n",
    "    train_losses.extend(losses)\n",
    "    \n",
    "    losses = []\n",
    "    for _ in range(val_dataloader.num_batches_per_epoch):\n",
    "        # Validation data forward pass only\n",
    "        images = val_batch['img_batch'].to(device)\n",
    "        numerical_features = val_batch['feat_batch'].to(device)\n",
    "        ages = val_batch['age_batch'].to(device)\n",
    "        yhat = model(images, numerical_features)  # Use only image batch\n",
    "        yhat = torch.squeeze(yhat)\n",
    "        val_loss = torch.mean(loss_fn(yhat, y_batch), axis=0)  # Adjusted to label_batch\n",
    "        losses.append(val_loss.detach().cpu().numpy())\n",
    "\n",
    "    val_losses.append(np.mean(losses))'''"
   ]
  }
 ],
 "metadata": {
  "kernelspec": {
   "display_name": "venv",
   "language": "python",
   "name": "python3"
  },
  "language_info": {
   "codemirror_mode": {
    "name": "ipython",
    "version": 3
   },
   "file_extension": ".py",
   "mimetype": "text/x-python",
   "name": "python",
   "nbconvert_exporter": "python",
   "pygments_lexer": "ipython3",
   "version": "3.11.5"
  }
 },
 "nbformat": 4,
 "nbformat_minor": 2
}
