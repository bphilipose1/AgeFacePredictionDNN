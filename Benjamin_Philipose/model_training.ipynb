{
 "cells": [
  {
   "cell_type": "code",
   "execution_count": 54,
   "metadata": {},
   "outputs": [],
   "source": [
    "import numpy as np\n",
    "import pandas as pd\n",
    "import torch\n",
    "import torch.nn as nn\n",
    "from utils import calculate_gradient_and_update, cnn_train_step, cnn_val_step, save_checkpoint, mmn_train_step, mmn_val_step\n",
    "from dataloader import CustomDataloader\n",
    "from networks import CNNRegression, MultiModalNetwork\n",
    "import tqdm"
   ]
  },
  {
   "cell_type": "markdown",
   "metadata": {},
   "source": [
    "#### Automatic GPU optimization, if available"
   ]
  },
  {
   "cell_type": "code",
   "execution_count": 55,
   "metadata": {},
   "outputs": [
    {
     "name": "stdout",
     "output_type": "stream",
     "text": [
      "Is CUDA available?  True\n"
     ]
    }
   ],
   "source": [
    "cuda_available = torch.cuda.is_available()\n",
    "print(\"Is CUDA available? \", cuda_available)"
   ]
  },
  {
   "cell_type": "code",
   "execution_count": 56,
   "metadata": {},
   "outputs": [
    {
     "name": "stdout",
     "output_type": "stream",
     "text": [
      "Using GPU: NVIDIA GeForce GTX 1660 Ti\n"
     ]
    }
   ],
   "source": [
    "if (torch.cuda.is_available()):\n",
    "    device = torch.device(\"cuda\")\n",
    "    print('Using GPU:', torch.cuda.get_device_name(0))\n",
    "else:\n",
    "    device = torch.device(\"cpu\")\n",
    "    print('GPU not available, using CPU')\n",
    "    "
   ]
  },
  {
   "cell_type": "markdown",
   "metadata": {},
   "source": [
    "### Model 1 - Linear Regression ###"
   ]
  },
  {
   "cell_type": "code",
   "execution_count": 57,
   "metadata": {},
   "outputs": [],
   "source": [
    "#load train test and validation data from tensor_collection\n",
    "cm_x_train = torch.load('tensor_collection\\\\cm_x_train.pt')\n",
    "cm_y_train = torch.load('tensor_collection\\\\cm_y_train.pt')\n",
    "cm_x_test = torch.load('tensor_collection\\\\cm_x_test.pt')\n",
    "cm_y_test = torch.load('tensor_collection\\\\cm_y_test.pt')\n",
    "cm_x_val = torch.load('tensor_collection\\\\cm_x_val.pt')\n",
    "cm_y_val = torch.load('tensor_collection\\\\cm_y_val.pt')\n",
    "\n"
   ]
  },
  {
   "cell_type": "markdown",
   "metadata": {},
   "source": [
    "#### Hyperparameters setup"
   ]
  },
  {
   "cell_type": "code",
   "execution_count": 58,
   "metadata": {},
   "outputs": [],
   "source": [
    "num_features = cm_x_train.shape[1]\n",
    "\n",
    "train_loss_history = []\n",
    "val_loss_history = []\n",
    "num_epochs = 100\n",
    "alpha = 0.1\n",
    "\n",
    "# Initialize theta to random values between -2 and 2\n",
    "theta = np.random.uniform(-2, 2, (num_features))\n"
   ]
  },
  {
   "cell_type": "markdown",
   "metadata": {},
   "source": [
    "#### Model 1 - Training Loop "
   ]
  },
  {
   "cell_type": "code",
   "execution_count": 59,
   "metadata": {},
   "outputs": [],
   "source": [
    "\n",
    "# Training Loop\n",
    "for t in range(num_epochs):\n",
    "    # Training step\n",
    "    train_loss, theta = calculate_gradient_and_update(cm_x_train, cm_y_train, theta, alpha)\n",
    "    train_loss_history.append(train_loss)\n",
    "\n",
    "    # Validation step\n",
    "    val_loss, _ = calculate_gradient_and_update(cm_x_val, cm_y_val, theta, 0)  # alpha=0 to prevent updates\n",
    "    val_loss_history.append(val_loss)\n"
   ]
  },
  {
   "cell_type": "code",
   "execution_count": 60,
   "metadata": {},
   "outputs": [],
   "source": [
    "#save theta and loss history for analysis notebook\n",
    "theta_torch = torch.tensor(theta, dtype=torch.float32)\n",
    "train_loss_history_torch = torch.tensor(train_loss_history, dtype=torch.float32)\n",
    "val_loss_history_torch = torch.tensor(val_loss_history, dtype=torch.float32)\n",
    "\n",
    "torch.save(theta_torch, 'tensor_collection\\\\lr_theta.pt')\n",
    "torch.save(train_loss_history_torch, 'tensor_collection\\\\lr_train_loss.pt')\n",
    "torch.save(val_loss_history_torch, 'tensor_collection\\\\lr_val_loss.pt')\n"
   ]
  },
  {
   "cell_type": "markdown",
   "metadata": {},
   "source": [
    "### Model 2 - Training CNN ###"
   ]
  },
  {
   "cell_type": "markdown",
   "metadata": {},
   "source": [
    "#### Load in Train, Val, and Test sets for Model 2"
   ]
  },
  {
   "cell_type": "code",
   "execution_count": 61,
   "metadata": {},
   "outputs": [
    {
     "name": "stdout",
     "output_type": "stream",
     "text": [
      "<class 'pandas.core.frame.DataFrame'>\n",
      "<class 'numpy.ndarray'>\n"
     ]
    }
   ],
   "source": [
    "directory = 'tensor_collection\\\\'\n",
    "\n",
    "#load train and val csv files\n",
    "cnn_x_train = pd.read_csv(directory + 'cnn_x_train.csv')\n",
    "cnn_x_val = pd.read_csv(directory + 'cnn_x_val.csv')\n",
    "cnn_y_train_tensor = torch.load(directory + 'cnn_y_train.pt')\n",
    "cnn_y_val_tensor = torch.load(directory + 'cnn_y_val.pt')\n",
    "\n",
    "print(type(cnn_x_train))\n",
    "print(type(cnn_y_train_tensor))\n"
   ]
  },
  {
   "cell_type": "code",
   "execution_count": 62,
   "metadata": {},
   "outputs": [
    {
     "name": "stdout",
     "output_type": "stream",
     "text": [
      "                                            filename\n",
      "0  data\\images\\25_0_0_20170117203843296.jpg.chip.jpg\n",
      "1  data\\images\\56_0_3_20170105180725694.jpg.chip.jpg\n",
      "2  data\\images\\29_1_0_20170120133642078.jpg.chip.jpg\n",
      "3  data\\images\\35_1_3_20170112211501949.jpg.chip.jpg\n",
      "4  data\\images\\29_1_0_20170116211713681.jpg.chip.jpg\n"
     ]
    }
   ],
   "source": [
    "print(cnn_x_train.head())"
   ]
  },
  {
   "cell_type": "markdown",
   "metadata": {},
   "source": [
    "#### Model 2 - Hyperparameters"
   ]
  },
  {
   "cell_type": "code",
   "execution_count": 63,
   "metadata": {},
   "outputs": [],
   "source": [
    "model = CNNRegression().to(device)\n",
    "optimizer = torch.optim.Adam(model.parameters(), lr=1e-4)\n",
    "epochs = 20\n",
    "loss_fn = nn.MSELoss()\n",
    "batch_sz = 100"
   ]
  },
  {
   "cell_type": "markdown",
   "metadata": {},
   "source": [
    "#### Instantiating Train and Val Dataloaders"
   ]
  },
  {
   "cell_type": "code",
   "execution_count": 64,
   "metadata": {},
   "outputs": [],
   "source": [
    "train_dataloader = CustomDataloader(dataframe=cnn_x_train, age=cnn_y_train_tensor, batch_size=batch_sz, randomize=True)\n",
    "val_dataloader = CustomDataloader(dataframe=cnn_x_val, age=cnn_y_val_tensor, batch_size=batch_sz, randomize=False)"
   ]
  },
  {
   "cell_type": "markdown",
   "metadata": {},
   "source": [
    "#### Model 2 - Training Loop"
   ]
  },
  {
   "cell_type": "code",
   "execution_count": 65,
   "metadata": {},
   "outputs": [
    {
     "name": "stderr",
     "output_type": "stream",
     "text": [
      "100%|██████████| 20/20 [07:22<00:00, 22.13s/it]\n"
     ]
    }
   ],
   "source": [
    "train_losses = []\n",
    "val_losses = []\n",
    "for epoch in tqdm.tqdm(range(epochs)):\n",
    "    # Training step\n",
    "    train_loss = cnn_train_step(model, train_dataloader, loss_fn, optimizer, device)\n",
    "    train_losses.append(train_loss)\n",
    "    \n",
    "    # Validation step\n",
    "    val_loss = cnn_val_step(model, val_dataloader, loss_fn, device)\n",
    "    val_losses.append(val_loss)\n",
    "\n",
    "    save_checkpoint(model, optimizer, epoch, f'model_checkpoints/cnn_checkpoint_epoch_{epoch}.pth')\n",
    "save_checkpoint(model, optimizer, epochs, f'model_checkpoints/cnn_checkpoint_final.pth')"
   ]
  },
  {
   "cell_type": "code",
   "execution_count": 66,
   "metadata": {},
   "outputs": [],
   "source": [
    "#store train and validation losses\n",
    "torch.save(train_losses, 'tensor_collection\\\\cnn_train_losses.pt')\n",
    "torch.save(val_losses, 'tensor_collection\\\\cnn_val_losses.pt')\n",
    "\n",
    "\n"
   ]
  },
  {
   "cell_type": "markdown",
   "metadata": {},
   "source": [
    "### Model 3 - Training Multi-Modal Network ###"
   ]
  },
  {
   "cell_type": "markdown",
   "metadata": {},
   "source": [
    "#### Load in Train, Val, and Test sets for Model 3"
   ]
  },
  {
   "cell_type": "code",
   "execution_count": 67,
   "metadata": {},
   "outputs": [
    {
     "name": "stdout",
     "output_type": "stream",
     "text": [
      "<class 'pandas.core.frame.DataFrame'>\n",
      "<class 'numpy.ndarray'>\n"
     ]
    }
   ],
   "source": [
    "directory = 'tensor_collection\\\\'\n",
    "\n",
    "#load train and val csv files\n",
    "mnn_x_train = pd.read_csv(directory + 'mnn_x_train.csv')\n",
    "mnn_x_val = pd.read_csv(directory + 'mnn_x_val.csv')\n",
    "mnn_y_train_tensor = torch.load(directory + 'mnn_y_train.pt')\n",
    "mnn_y_val_tensor = torch.load(directory + 'mnn_y_val.pt')\n",
    "\n",
    "print(type(mnn_x_train))\n",
    "print(type(mnn_y_train_tensor))\n"
   ]
  },
  {
   "cell_type": "markdown",
   "metadata": {},
   "source": [
    "#### Model 3 - Hyperparameters"
   ]
  },
  {
   "cell_type": "code",
   "execution_count": 68,
   "metadata": {},
   "outputs": [],
   "source": [
    "num_numerical_features = nn_x_train.shape[1] - 1 # -1 because we don't count the filename column\n",
    "\n",
    "model = MultiModalNetwork(num_numerical_features).to(device)  # Adjust for the number of numerical features\n",
    "optimizer = torch.optim.Adam(model.parameters(), lr=1e-4)\n",
    "epochs = 20 #after 10 epochs the model train and validation loss began to spike\n",
    "loss_fn = torch.nn.MSELoss()\n",
    "batch_sz = 100\n"
   ]
  },
  {
   "cell_type": "markdown",
   "metadata": {},
   "source": [
    "#### Instantiating Train and Val Data loaders"
   ]
  },
  {
   "cell_type": "code",
   "execution_count": 69,
   "metadata": {},
   "outputs": [],
   "source": [
    "train_dataloader = CustomDataloader(dataframe=mnn_x_train, age=mnn_y_train_tensor, batch_size=batch_sz, randomize=True)\n",
    "val_dataloader = CustomDataloader(dataframe=mnn_x_val, age=mnn_y_val_tensor, batch_size=batch_sz, randomize=False)\n"
   ]
  },
  {
   "cell_type": "markdown",
   "metadata": {},
   "source": [
    "#### Model 3 - Training Loop"
   ]
  },
  {
   "cell_type": "code",
   "execution_count": 70,
   "metadata": {},
   "outputs": [
    {
     "name": "stderr",
     "output_type": "stream",
     "text": [
      "100%|██████████| 20/20 [07:24<00:00, 22.21s/it]\n"
     ]
    }
   ],
   "source": [
    "train_losses = []\n",
    "val_losses = []\n",
    "for epoch in tqdm.tqdm(range(epochs)):\n",
    "    # Training step\n",
    "    train_loss = mmn_train_step(model, train_dataloader, loss_fn, optimizer, device)\n",
    "    train_losses.append(train_loss)\n",
    "\n",
    "    # Validation step\n",
    "    val_loss = mmn_val_step(model, val_dataloader, loss_fn, device)\n",
    "    val_losses.append(val_loss)\n",
    "\n",
    "    checkpoint_filename = f'model_checkpoints/mmn_checkpoint_epoch_{epoch}.pth'\n",
    "    save_checkpoint(model, optimizer, epoch, checkpoint_filename)\n",
    "save_checkpoint(model, optimizer, epochs, f'model_checkpoints/mmn_checkpoint_final.pth')"
   ]
  },
  {
   "cell_type": "code",
   "execution_count": 71,
   "metadata": {},
   "outputs": [],
   "source": [
    "#store train and validation losses\n",
    "torch.save(train_losses, 'tensor_collection\\\\mmn_train_losses.pt')\n",
    "torch.save(val_losses, 'tensor_collection\\\\mmn_val_losses.pt')\n",
    "\n"
   ]
  }
 ],
 "metadata": {
  "kernelspec": {
   "display_name": "venv",
   "language": "python",
   "name": "python3"
  },
  "language_info": {
   "codemirror_mode": {
    "name": "ipython",
    "version": 3
   },
   "file_extension": ".py",
   "mimetype": "text/x-python",
   "name": "python",
   "nbconvert_exporter": "python",
   "pygments_lexer": "ipython3",
   "version": "3.11.5"
  }
 },
 "nbformat": 4,
 "nbformat_minor": 2
}
