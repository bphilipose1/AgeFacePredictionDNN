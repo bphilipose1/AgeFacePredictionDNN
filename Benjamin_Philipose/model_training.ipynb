{
 "cells": [
  {
   "cell_type": "code",
   "execution_count": 1,
   "metadata": {},
   "outputs": [],
   "source": [
    "import numpy as np\n",
    "import matplotlib.pyplot as plt\n",
    "import pickle\n"
   ]
  },
  {
   "cell_type": "markdown",
   "metadata": {},
   "source": [
    "### Model 1 - Linear Regression ###"
   ]
  },
  {
   "cell_type": "code",
   "execution_count": 2,
   "metadata": {},
   "outputs": [],
   "source": [
    "#load train and test set from regression_x_test.pkl, regression_x_train.pkl, regression_y_test.pkl, regression_y_train.pkl\n",
    "cm_x_train = np.load('pkl_collection\\\\regression_x_train.pkl', allow_pickle=True)\n",
    "cm_x_test = np.load('pkl_collection\\\\regression_x_test.pkl', allow_pickle=True)\n",
    "cm_y_train = np.load('pkl_collection\\\\regression_y_train.pkl', allow_pickle=True)\n",
    "cm_y_test = np.load('pkl_collection\\\\regression_y_test.pkl', allow_pickle=True)\n"
   ]
  },
  {
   "cell_type": "code",
   "execution_count": 3,
   "metadata": {},
   "outputs": [],
   "source": [
    "#Loss function\n",
    "def mean_squared_error(x : np.ndarray, y : np.ndarray, theta : np.ndarray) -> np.ndarray:\n",
    "    yhat = x @ theta \n",
    "    error = yhat - y \n",
    "    loss = (1 / len(y)) * np.sum(error ** 2) \n",
    "    return loss\n",
    "\n",
    "#Gradient descent\n",
    "def calculate_gradient_and_update(x: np.ndarray, y: np.ndarray, theta: np.ndarray, alpha: float) -> tuple([float, np.ndarray]):\n",
    "    gradient = (1 / len(y)) * x.T @ ((x @ theta) - y) \n",
    "    theta_new = theta - (alpha * gradient) \n",
    "    loss = mean_squared_error(x, y, theta_new)\n",
    "    return loss, theta_new\n"
   ]
  },
  {
   "cell_type": "code",
   "execution_count": 4,
   "metadata": {},
   "outputs": [
    {
     "name": "stdout",
     "output_type": "stream",
     "text": [
      "Final loss:  16.01500347093344\n"
     ]
    }
   ],
   "source": [
    "num_features = cm_x_train.shape[1]\n",
    "\n",
    "loss_history = []\n",
    "num_epochs = 10000\n",
    "\n",
    "alpha = 0.1\n",
    "\n",
    "#initialize theta to random values between -2 and 2\n",
    "theta = np.random.uniform(-2,2,(num_features))\n",
    "\n",
    "#Training Loop\n",
    "for t in range(num_epochs):\n",
    "    loss, theta = calculate_gradient_and_update(cm_x_train, cm_y_train, theta, alpha)\n",
    "    loss_history.append(loss)\n",
    "\n",
    "#Plot loss history\n",
    "print('Final loss: ', loss)"
   ]
  },
  {
   "cell_type": "code",
   "execution_count": 5,
   "metadata": {},
   "outputs": [],
   "source": [
    "#save theta and loss history for analysis notebook\n",
    "pickle.dump(theta, open('pkl_collection\\\\regression_theta.pkl', 'wb'))\n",
    "pickle.dump(loss_history, open('pkl_collection\\\\regression_loss.pkl', 'wb'))"
   ]
  }
 ],
 "metadata": {
  "kernelspec": {
   "display_name": "venv",
   "language": "python",
   "name": "python3"
  },
  "language_info": {
   "codemirror_mode": {
    "name": "ipython",
    "version": 3
   },
   "file_extension": ".py",
   "mimetype": "text/x-python",
   "name": "python",
   "nbconvert_exporter": "python",
   "pygments_lexer": "ipython3",
   "version": "3.11.5"
  }
 },
 "nbformat": 4,
 "nbformat_minor": 2
}
