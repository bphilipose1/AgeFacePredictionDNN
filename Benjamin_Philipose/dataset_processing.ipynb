{
 "cells": [
  {
   "cell_type": "code",
   "execution_count": 13,
   "metadata": {},
   "outputs": [],
   "source": [
    "\n",
    "import pandas as pd\n",
    "import os\n",
    "import pickle\n",
    "import numpy as np\n",
    "from sklearn.preprocessing import StandardScaler\n",
    "from sklearn.model_selection import train_test_split\n",
    "\n",
    "import os\n",
    "from PIL import Image\n",
    "import pandas as pd\n",
    "import numpy as np\n",
    "import torch\n",
    "\n"
   ]
  },
  {
   "cell_type": "code",
   "execution_count": 14,
   "metadata": {},
   "outputs": [],
   "source": [
    "df = pd.read_csv('data\\\\UTKFaceAugmented.csv')"
   ]
  },
  {
   "cell_type": "markdown",
   "metadata": {},
   "source": [
    "### Split Dataframe to Input and Targe Features ###"
   ]
  },
  {
   "cell_type": "code",
   "execution_count": 15,
   "metadata": {},
   "outputs": [
    {
     "name": "stdout",
     "output_type": "stream",
     "text": [
      "Index(['Unnamed: 0', 'filename', 'age', 'gender', 'race', 'age_range',\n",
      "       'num_haircuts_life', 'has_tiktok', 'remembers_disco', 'uses_skincare',\n",
      "       'max_annual_earnings'],\n",
      "      dtype='object')\n",
      "   Unnamed: 0                                filename  age  gender   race  \\\n",
      "0           0  100_0_0_20170112213500903.jpg.chip.jpg  100    male  white   \n",
      "1           1  100_0_0_20170112215240346.jpg.chip.jpg  100    male  white   \n",
      "2           2  100_1_0_20170110183726390.jpg.chip.jpg  100  female  white   \n",
      "3           3  100_1_0_20170112213001988.jpg.chip.jpg  100  female  white   \n",
      "4           4  100_1_0_20170112213303693.jpg.chip.jpg  100  female  white   \n",
      "\n",
      "  age_range  num_haircuts_life has_tiktok remembers_disco uses_skincare  \\\n",
      "0   100-119                360         no              no            no   \n",
      "1   100-119                627         no              no            no   \n",
      "2   100-119                687         no             yes            no   \n",
      "3   100-119                710         no              no            no   \n",
      "4   100-119                614         no              no            no   \n",
      "\n",
      "   max_annual_earnings  \n",
      "0         32890.160162  \n",
      "1         29870.803247  \n",
      "2         62930.622654  \n",
      "3         31105.957009  \n",
      "4         63977.673549  \n"
     ]
    }
   ],
   "source": [
    "print(df.columns)\n",
    "print(df.head())\n",
    "target = df['age']\n",
    "features = df.drop(['age', 'age_range'], axis=1)"
   ]
  },
  {
   "cell_type": "markdown",
   "metadata": {},
   "source": [
    "### Data Preprocessing for Simple Model ###"
   ]
  },
  {
   "cell_type": "code",
   "execution_count": 16,
   "metadata": {},
   "outputs": [],
   "source": [
    "#Selecting potentially relevant features\n",
    "cm_features = ['gender', 'race', 'num_haircuts_life', 'has_tiktok', 'remembers_disco', 'uses_skincare', 'max_annual_earnings']\n",
    "cm_df = df[cm_features]"
   ]
  },
  {
   "cell_type": "code",
   "execution_count": 17,
   "metadata": {},
   "outputs": [
    {
     "name": "stdout",
     "output_type": "stream",
     "text": [
      "   gender   race  num_haircuts_life has_tiktok remembers_disco uses_skincare  \\\n",
      "0    male  white                360         no              no            no   \n",
      "1    male  white                627         no              no            no   \n",
      "2  female  white                687         no             yes            no   \n",
      "3  female  white                710         no              no            no   \n",
      "4  female  white                614         no              no            no   \n",
      "\n",
      "   max_annual_earnings  \n",
      "0         32890.160162  \n",
      "1         29870.803247  \n",
      "2         62930.622654  \n",
      "3         31105.957009  \n",
      "4         63977.673549  \n"
     ]
    }
   ],
   "source": [
    "print(cm_df.head())"
   ]
  },
  {
   "cell_type": "code",
   "execution_count": 18,
   "metadata": {},
   "outputs": [
    {
     "name": "stdout",
     "output_type": "stream",
     "text": [
      "gender\n",
      "['male' 'female']\n",
      "race\n",
      "['white' 'asian' 'black' 'indian' 'other']\n",
      "has_tiktok\n",
      "['no' 'yes']\n",
      "remembers_disco\n",
      "['no' 'yes']\n",
      "uses_skincare\n",
      "['no' 'yes']\n",
      "num_haircuts_life        int64\n",
      "has_tiktok               int32\n",
      "remembers_disco          int32\n",
      "uses_skincare            int32\n",
      "max_annual_earnings    float64\n",
      "race_asian               int32\n",
      "race_black               int32\n",
      "race_indian              int32\n",
      "race_other               int32\n",
      "race_white               int32\n",
      "gender_female            int32\n",
      "gender_male              int32\n",
      "dtype: object\n"
     ]
    }
   ],
   "source": [
    "categorical_features = ['gender', 'race', 'has_tiktok', 'remembers_disco', 'uses_skincare']\n",
    "for feature in categorical_features:\n",
    "    print(feature)\n",
    "    print(cm_df[feature].unique())\n",
    "\n",
    "#convert 2 state classification columns to binary ints\n",
    "cm_df.loc[:, 'has_tiktok'] = cm_df['has_tiktok'].map({'no': 0, 'yes': 1})\n",
    "cm_df.loc[:, 'remembers_disco'] = cm_df['remembers_disco'].map({'no': 0, 'yes': 1})\n",
    "cm_df.loc[:, 'uses_skincare'] = cm_df['uses_skincare'].map({'no': 0, 'yes': 1})\n",
    "\n",
    "#convert the rest of the categorical columns to one hot encoding\n",
    "multi_categorical_columns = ['race', 'gender']\n",
    "cm_df = pd.get_dummies(cm_df, columns=multi_categorical_columns)\n",
    "cm_df.columns = cm_df.columns.str.replace('-', '_')\n",
    "\n",
    "#convert all bool columns to int automatically\n",
    "for features in cm_df.columns:\n",
    "    if (cm_df[features].dtype == bool) or (cm_df[features].dtype == object):\n",
    "        cm_df[features] = cm_df[features].astype(int)\n",
    "\n",
    "print(cm_df.dtypes)\n",
    "\n"
   ]
  },
  {
   "cell_type": "code",
   "execution_count": 19,
   "metadata": {},
   "outputs": [
    {
     "name": "stdout",
     "output_type": "stream",
     "text": [
      "num_haircuts_life      0\n",
      "has_tiktok             0\n",
      "remembers_disco        0\n",
      "uses_skincare          0\n",
      "max_annual_earnings    0\n",
      "race_asian             0\n",
      "race_black             0\n",
      "race_indian            0\n",
      "race_other             0\n",
      "race_white             0\n",
      "gender_female          0\n",
      "gender_male            0\n",
      "dtype: int64\n"
     ]
    }
   ],
   "source": [
    "#Check for missing values\n",
    "print(cm_df.isna().sum())"
   ]
  },
  {
   "cell_type": "code",
   "execution_count": 20,
   "metadata": {},
   "outputs": [],
   "source": [
    "#Add Bias Term to input dataset\n",
    "cm_df['bias'] = 1"
   ]
  },
  {
   "cell_type": "code",
   "execution_count": 21,
   "metadata": {},
   "outputs": [
    {
     "name": "stdout",
     "output_type": "stream",
     "text": [
      "       num_haircuts_life  has_tiktok  remembers_disco  uses_skincare  \\\n",
      "5096           -0.298800           0                0              0   \n",
      "19586           1.915160           0                0              1   \n",
      "9835           -0.055341           1                0              0   \n",
      "13631          -0.245544           1                0              1   \n",
      "9807           -0.390098           0                0              1   \n",
      "\n",
      "       max_annual_earnings  race_asian  race_black  race_indian  race_other  \\\n",
      "5096             -0.171502           0           0            0           0   \n",
      "19586            -0.257435           0           0            1           0   \n",
      "9835             -0.012558           0           0            0           0   \n",
      "13631             0.075031           0           0            1           0   \n",
      "9807             -0.089092           0           0            0           0   \n",
      "\n",
      "       race_white  gender_female  gender_male  bias  \n",
      "5096            1              0            1     1  \n",
      "19586           0              0            1     1  \n",
      "9835            1              1            0     1  \n",
      "13631           0              1            0     1  \n",
      "9807            1              1            0     1  \n"
     ]
    }
   ],
   "source": [
    "\n",
    "#cannot use strattify as there is a class with only 1 sample\n",
    "cm_x_train, cm_x_check, cm_y_train, cm_y_check = train_test_split(cm_df, target, test_size=0.2, random_state=42)\n",
    "cm_x_val, cm_x_test, cm_y_val, cm_y_test = train_test_split(cm_x_check, cm_y_check, test_size=0.5, random_state=42)\n",
    "\n",
    "\n",
    "\n",
    "#standardize the continuous numerical data\n",
    "scaler = StandardScaler()\n",
    "columns_to_scale = ['num_haircuts_life', 'max_annual_earnings']\n",
    "cm_x_train[columns_to_scale] = scaler.fit_transform(cm_x_train[columns_to_scale])\n",
    "cm_x_val[columns_to_scale] = scaler.transform(cm_x_val[columns_to_scale])\n",
    "cm_x_test[columns_to_scale] = scaler.transform(cm_x_test[columns_to_scale])\n",
    "\n",
    "print(cm_x_train.head())\n",
    "\n"
   ]
  },
  {
   "cell_type": "code",
   "execution_count": 22,
   "metadata": {},
   "outputs": [],
   "source": [
    "#Save the data for use in the regression model\n",
    "cm_x_train = cm_x_train.to_numpy()\n",
    "cm_x_test = cm_x_test.to_numpy()\n",
    "cm_y_train = cm_y_train.to_numpy()\n",
    "cm_y_test = cm_y_test.to_numpy()\n",
    "cm_x_val = cm_x_val.to_numpy()\n",
    "cm_y_val = cm_y_val.to_numpy()\n",
    "\n",
    "\n",
    "#create a directory to store the data\n",
    "directory = 'tensor_collection'\n",
    "os.makedirs(directory, exist_ok=True)\n",
    "\n",
    "#store the data as tensors\n",
    "torch.save(cm_x_train, directory + '/cm_x_train.pt')\n",
    "torch.save(cm_x_test, directory + '/cm_x_test.pt')\n",
    "torch.save(cm_y_train, directory + '/cm_y_train.pt')\n",
    "torch.save(cm_y_test, directory + '/cm_y_test.pt')\n",
    "torch.save(cm_x_val, directory + '/cm_x_val.pt')\n",
    "torch.save(cm_y_val, directory + '/cm_y_val.pt')\n",
    "\n",
    "\n",
    "\n",
    "\n"
   ]
  },
  {
   "cell_type": "markdown",
   "metadata": {},
   "source": [
    "### Model 2 - Convolutional Neural Network"
   ]
  },
  {
   "cell_type": "code",
   "execution_count": 23,
   "metadata": {},
   "outputs": [
    {
     "name": "stdout",
     "output_type": "stream",
     "text": [
      "   num_haircuts_life  has_tiktok  remembers_disco  uses_skincare  \\\n",
      "0                360           0                0              0   \n",
      "1                627           0                0              0   \n",
      "2                687           0                1              0   \n",
      "3                710           0                0              0   \n",
      "4                614           0                0              0   \n",
      "\n",
      "   max_annual_earnings  race_asian  race_black  race_indian  race_other  \\\n",
      "0         32890.160162           0           0            0           0   \n",
      "1         29870.803247           0           0            0           0   \n",
      "2         62930.622654           0           0            0           0   \n",
      "3         31105.957009           0           0            0           0   \n",
      "4         63977.673549           0           0            0           0   \n",
      "\n",
      "   race_white  gender_female  gender_male  bias  \\\n",
      "0           1              0            1     1   \n",
      "1           1              0            1     1   \n",
      "2           1              1            0     1   \n",
      "3           1              1            0     1   \n",
      "4           1              1            0     1   \n",
      "\n",
      "                                            filename  \n",
      "0  data\\images\\100_0_0_20170112213500903.jpg.chip...  \n",
      "1  data\\images\\100_0_0_20170112215240346.jpg.chip...  \n",
      "2  data\\images\\100_1_0_20170110183726390.jpg.chip...  \n",
      "3  data\\images\\100_1_0_20170112213001988.jpg.chip...  \n",
      "4  data\\images\\100_1_0_20170112213303693.jpg.chip...  \n"
     ]
    }
   ],
   "source": [
    "\n",
    "cnn_df = cm_df\n",
    "# apennd data\\ to filename column from df\n",
    "cnn_df['filename'] = 'data\\\\images\\\\' + df['filename'].astype(str)\n",
    "print(cnn_df.head())"
   ]
  },
  {
   "cell_type": "code",
   "execution_count": 24,
   "metadata": {},
   "outputs": [],
   "source": [
    "\n",
    "cnn_x_train, cnn_x_check, cnn_age_train, cnn_age_check = train_test_split(cnn_df, target, test_size=0.2, random_state=42)\n",
    "cnn_x_val, cnn_x_test, cnn_age_val, cnn_age_test = train_test_split(cnn_x_check, cnn_age_check, test_size=0.5, random_state=42)\n",
    "\n",
    "#store filename column to use in other jupyter notebook\n",
    "#store the traiin test validation as csv\n",
    "cnn_x_train.to_csv(directory + '/cnn_x_train.csv')\n",
    "cnn_x_test.to_csv(directory + '/cnn_x_test.csv')\n",
    "cnn_x_val.to_csv(directory + '/cnn_x_val.csv')\n",
    "\n",
    "#convert all age to torch tensors and save\n",
    "cnn_age_train = cnn_age_train.to_numpy()\n",
    "cnn_age_test = cnn_age_test.to_numpy()\n",
    "cnn_age_val = cnn_age_val.to_numpy()\n",
    "\n",
    "torch.save(cnn_age_train, directory + '/cnn_y_train.pt')\n",
    "torch.save(cnn_age_test, directory + '/cnn_y_test.pt')\n",
    "torch.save(cnn_age_val, directory + '/cnn_y_val.pt')\n"
   ]
  }
 ],
 "metadata": {
  "kernelspec": {
   "display_name": "venv",
   "language": "python",
   "name": "python3"
  },
  "language_info": {
   "codemirror_mode": {
    "name": "ipython",
    "version": 3
   },
   "file_extension": ".py",
   "mimetype": "text/x-python",
   "name": "python",
   "nbconvert_exporter": "python",
   "pygments_lexer": "ipython3",
   "version": "3.11.5"
  }
 },
 "nbformat": 4,
 "nbformat_minor": 2
}
