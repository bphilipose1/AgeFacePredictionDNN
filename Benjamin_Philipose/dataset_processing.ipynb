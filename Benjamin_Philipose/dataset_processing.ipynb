{
 "cells": [
  {
   "cell_type": "code",
   "execution_count": 144,
   "metadata": {},
   "outputs": [],
   "source": [
    "import pandas as pd\n",
    "from sklearn.compose import ColumnTransformer\n",
    "from sklearn.preprocessing import StandardScaler\n",
    "from sklearn.model_selection import train_test_split"
   ]
  },
  {
   "cell_type": "code",
   "execution_count": 145,
   "metadata": {},
   "outputs": [],
   "source": [
    "df = pd.read_csv('data\\\\UTKFaceAugmented.csv')"
   ]
  },
  {
   "cell_type": "code",
   "execution_count": 146,
   "metadata": {},
   "outputs": [
    {
     "name": "stdout",
     "output_type": "stream",
     "text": [
      "Index(['Unnamed: 0', 'filename', 'age', 'gender', 'race', 'age_range',\n",
      "       'num_haircuts_life', 'has_tiktok', 'remembers_disco', 'uses_skincare',\n",
      "       'max_annual_earnings'],\n",
      "      dtype='object')\n",
      "   Unnamed: 0                                filename  age  gender   race  \\\n",
      "0           0  100_0_0_20170112213500903.jpg.chip.jpg  100    male  white   \n",
      "1           1  100_0_0_20170112215240346.jpg.chip.jpg  100    male  white   \n",
      "2           2  100_1_0_20170110183726390.jpg.chip.jpg  100  female  white   \n",
      "3           3  100_1_0_20170112213001988.jpg.chip.jpg  100  female  white   \n",
      "4           4  100_1_0_20170112213303693.jpg.chip.jpg  100  female  white   \n",
      "\n",
      "  age_range  num_haircuts_life has_tiktok remembers_disco uses_skincare  \\\n",
      "0   100-119                360         no              no            no   \n",
      "1   100-119                627         no              no            no   \n",
      "2   100-119                687         no             yes            no   \n",
      "3   100-119                710         no              no            no   \n",
      "4   100-119                614         no              no            no   \n",
      "\n",
      "   max_annual_earnings  \n",
      "0         32890.160162  \n",
      "1         29870.803247  \n",
      "2         62930.622654  \n",
      "3         31105.957009  \n",
      "4         63977.673549  \n"
     ]
    }
   ],
   "source": [
    "print(df.columns)\n",
    "print(df.head())\n",
    "target = df['age']"
   ]
  },
  {
   "cell_type": "code",
   "execution_count": 147,
   "metadata": {},
   "outputs": [],
   "source": [
    "cm_features = ['gender', 'race', 'age_range', 'num_haircuts_life', 'has_tiktok', 'remembers_disco', 'uses_skincare', 'max_annual_earnings']\n",
    "cm_df = df[cm_features]"
   ]
  },
  {
   "cell_type": "code",
   "execution_count": 148,
   "metadata": {},
   "outputs": [
    {
     "name": "stdout",
     "output_type": "stream",
     "text": [
      "   gender   race age_range  num_haircuts_life has_tiktok remembers_disco  \\\n",
      "0    male  white   100-119                360         no              no   \n",
      "1    male  white   100-119                627         no              no   \n",
      "2  female  white   100-119                687         no             yes   \n",
      "3  female  white   100-119                710         no              no   \n",
      "4  female  white   100-119                614         no              no   \n",
      "\n",
      "  uses_skincare  max_annual_earnings  \n",
      "0            no         32890.160162  \n",
      "1            no         29870.803247  \n",
      "2            no         62930.622654  \n",
      "3            no         31105.957009  \n",
      "4            no         63977.673549  \n"
     ]
    }
   ],
   "source": [
    "print(cm_df.head())"
   ]
  },
  {
   "cell_type": "code",
   "execution_count": 149,
   "metadata": {},
   "outputs": [
    {
     "name": "stdout",
     "output_type": "stream",
     "text": [
      "gender\n",
      "['male' 'female']\n",
      "race\n",
      "['white' 'asian' 'black' 'indian' 'other']\n",
      "age_range\n",
      "['100-119' '0-19' '20-29' '30-39' '40-59' '60-79' '80-99']\n",
      "has_tiktok\n",
      "['no' 'yes']\n",
      "remembers_disco\n",
      "['no' 'yes']\n",
      "uses_skincare\n",
      "['no' 'yes']\n",
      "gender                  object\n",
      "race                    object\n",
      "age_range               object\n",
      "num_haircuts_life        int64\n",
      "has_tiktok              object\n",
      "remembers_disco         object\n",
      "uses_skincare           object\n",
      "max_annual_earnings    float64\n",
      "dtype: object\n",
      "num_haircuts_life        int64\n",
      "has_tiktok               int32\n",
      "remembers_disco          int32\n",
      "uses_skincare            int32\n",
      "max_annual_earnings    float64\n",
      "race_asian               int32\n",
      "race_black               int32\n",
      "race_indian              int32\n",
      "race_other               int32\n",
      "race_white               int32\n",
      "age_range_0_19           int32\n",
      "age_range_100_119        int32\n",
      "age_range_20_29          int32\n",
      "age_range_30_39          int32\n",
      "age_range_40_59          int32\n",
      "age_range_60_79          int32\n",
      "age_range_80_99          int32\n",
      "gender_female            int32\n",
      "gender_male              int32\n",
      "dtype: object\n"
     ]
    }
   ],
   "source": [
    "categorical_features = ['gender', 'race', 'age_range', 'has_tiktok', 'remembers_disco', 'uses_skincare']\n",
    "for feature in categorical_features:\n",
    "    print(feature)\n",
    "    print(cm_df[feature].unique())\n",
    "\n",
    "print(cm_df.dtypes)\n",
    "\n",
    "#convert 2 state classification columns to binary\n",
    "cm_df.loc[:, 'has_tiktok'] = cm_df['has_tiktok'].map({'no': 0, 'yes': 1})\n",
    "cm_df.loc[:, 'remembers_disco'] = cm_df['remembers_disco'].map({'no': 0, 'yes': 1})\n",
    "cm_df.loc[:, 'uses_skincare'] = cm_df['uses_skincare'].map({'no': 0, 'yes': 1})\n",
    "\n",
    "#convert the rest of the categorical columns to one hot encoding\n",
    "multi_categorical_columns = ['race', 'age_range', 'gender']\n",
    "cm_df = pd.get_dummies(cm_df, columns=multi_categorical_columns)\n",
    "cm_df.columns = cm_df.columns.str.replace('-', '_')\n",
    "\n",
    "#convert all bool columns to int automatically\n",
    "for features in cm_df.columns:\n",
    "    if (cm_df[features].dtype == bool) or (cm_df[features].dtype == object):\n",
    "        cm_df[features] = cm_df[features].astype(int)\n",
    "\n",
    "print(cm_df.dtypes)\n",
    "\n"
   ]
  },
  {
   "cell_type": "code",
   "execution_count": 150,
   "metadata": {},
   "outputs": [
    {
     "name": "stdout",
     "output_type": "stream",
     "text": [
      "num_haircuts_life      0\n",
      "has_tiktok             0\n",
      "remembers_disco        0\n",
      "uses_skincare          0\n",
      "max_annual_earnings    0\n",
      "race_asian             0\n",
      "race_black             0\n",
      "race_indian            0\n",
      "race_other             0\n",
      "race_white             0\n",
      "age_range_0_19         0\n",
      "age_range_100_119      0\n",
      "age_range_20_29        0\n",
      "age_range_30_39        0\n",
      "age_range_40_59        0\n",
      "age_range_60_79        0\n",
      "age_range_80_99        0\n",
      "gender_female          0\n",
      "gender_male            0\n",
      "dtype: int64\n"
     ]
    }
   ],
   "source": [
    "print(cm_df.isna().sum())"
   ]
  },
  {
   "cell_type": "code",
   "execution_count": 151,
   "metadata": {},
   "outputs": [
    {
     "name": "stdout",
     "output_type": "stream",
     "text": [
      "       num_haircuts_life  has_tiktok  remembers_disco  uses_skincare  \\\n",
      "5096           -0.298800           0                0              0   \n",
      "19586           1.915160           0                0              1   \n",
      "9835           -0.055341           1                0              0   \n",
      "13631          -0.245544           1                0              1   \n",
      "9807           -0.390098           0                0              1   \n",
      "\n",
      "       max_annual_earnings  race_asian  race_black  race_indian  race_other  \\\n",
      "5096             -0.171502           0           0            0           0   \n",
      "19586            -0.257435           0           0            1           0   \n",
      "9835             -0.012558           0           0            0           0   \n",
      "13631             0.075031           0           0            1           0   \n",
      "9807             -0.089092           0           0            0           0   \n",
      "\n",
      "       race_white  age_range_0_19  age_range_100_119  age_range_20_29  \\\n",
      "5096            1               0                  0                1   \n",
      "19586           0               0                  0                0   \n",
      "9835            1               0                  0                1   \n",
      "13631           0               0                  0                0   \n",
      "9807            1               0                  0                1   \n",
      "\n",
      "       age_range_30_39  age_range_40_59  age_range_60_79  age_range_80_99  \\\n",
      "5096                 0                0                0                0   \n",
      "19586                0                1                0                0   \n",
      "9835                 0                0                0                0   \n",
      "13631                1                0                0                0   \n",
      "9807                 0                0                0                0   \n",
      "\n",
      "       gender_female  gender_male  \n",
      "5096               0            1  \n",
      "19586              0            1  \n",
      "9835               1            0  \n",
      "13631              1            0  \n",
      "9807               1            0  \n"
     ]
    }
   ],
   "source": [
    "#do train and test split\n",
    "X_train, X_test, y_train, y_test = train_test_split(cm_df, target, test_size=0.2, random_state=42)\n",
    "\n",
    "#scale the data\n",
    "scaler = StandardScaler()\n",
    "\n",
    "#standardize the data that are not one hot encoded\n",
    "columns_to_scale = ['num_haircuts_life', 'max_annual_earnings']\n",
    "X_train[columns_to_scale] = scaler.fit_transform(X_train[columns_to_scale])\n",
    "X_test[columns_to_scale] = scaler.transform(X_test[columns_to_scale])\n",
    "\n",
    "print(X_train.head())\n",
    "\n"
   ]
  }
 ],
 "metadata": {
  "kernelspec": {
   "display_name": "venv",
   "language": "python",
   "name": "python3"
  },
  "language_info": {
   "codemirror_mode": {
    "name": "ipython",
    "version": 3
   },
   "file_extension": ".py",
   "mimetype": "text/x-python",
   "name": "python",
   "nbconvert_exporter": "python",
   "pygments_lexer": "ipython3",
   "version": "3.11.5"
  }
 },
 "nbformat": 4,
 "nbformat_minor": 2
}
